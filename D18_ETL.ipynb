{
  "nbformat": 4,
  "nbformat_minor": 0,
  "metadata": {
    "colab": {
      "provenance": []
    },
    "kernelspec": {
      "name": "python3",
      "display_name": "Python 3"
    },
    "language_info": {
      "name": "python"
    }
  },
  "cells": [
    {
      "cell_type": "code",
      "execution_count": 2,
      "metadata": {
        "colab": {
          "base_uri": "https://localhost:8080/"
        },
        "id": "woUYmKZM8X0D",
        "outputId": "d20aa38e-8a92-425d-cb47-b9ba540897a1"
      },
      "outputs": [
        {
          "output_type": "stream",
          "name": "stdout",
          "text": [
            "Collecting apache-airflow\n",
            "  Downloading apache_airflow-2.7.3-py3-none-any.whl (12.9 MB)\n",
            "\u001b[2K     \u001b[90m━━━━━━━━━━━━━━━━━━━━━━━━━━━━━━━━━━━━━━━━\u001b[0m \u001b[32m12.9/12.9 MB\u001b[0m \u001b[31m71.1 MB/s\u001b[0m eta \u001b[36m0:00:00\u001b[0m\n",
            "\u001b[?25hCollecting WTForms<3.1.0 (from apache-airflow)\n",
            "  Downloading WTForms-3.0.1-py3-none-any.whl (136 kB)\n",
            "\u001b[2K     \u001b[90m━━━━━━━━━━━━━━━━━━━━━━━━━━━━━━━━━━━━━━━━\u001b[0m \u001b[32m136.5/136.5 kB\u001b[0m \u001b[31m16.4 MB/s\u001b[0m eta \u001b[36m0:00:00\u001b[0m\n",
            "\u001b[?25hCollecting alembic<2.0,>=1.6.3 (from apache-airflow)\n",
            "  Downloading alembic-1.12.1-py3-none-any.whl (226 kB)\n",
            "\u001b[2K     \u001b[90m━━━━━━━━━━━━━━━━━━━━━━━━━━━━━━━━━━━━━━━━\u001b[0m \u001b[32m226.8/226.8 kB\u001b[0m \u001b[31m20.0 MB/s\u001b[0m eta \u001b[36m0:00:00\u001b[0m\n",
            "\u001b[?25hCollecting argcomplete>=1.10 (from apache-airflow)\n",
            "  Downloading argcomplete-3.1.4-py3-none-any.whl (41 kB)\n",
            "\u001b[2K     \u001b[90m━━━━━━━━━━━━━━━━━━━━━━━━━━━━━━━━━━━━━━━━\u001b[0m \u001b[32m41.6/41.6 kB\u001b[0m \u001b[31m4.2 MB/s\u001b[0m eta \u001b[36m0:00:00\u001b[0m\n",
            "\u001b[?25hCollecting asgiref (from apache-airflow)\n",
            "  Downloading asgiref-3.7.2-py3-none-any.whl (24 kB)\n",
            "Requirement already satisfied: attrs>=22.1.0 in /usr/local/lib/python3.10/dist-packages (from apache-airflow) (23.1.0)\n",
            "Requirement already satisfied: blinker in /usr/lib/python3/dist-packages (from apache-airflow) (1.4)\n",
            "Collecting cattrs>=22.1.0 (from apache-airflow)\n",
            "  Downloading cattrs-23.1.2-py3-none-any.whl (50 kB)\n",
            "\u001b[2K     \u001b[90m━━━━━━━━━━━━━━━━━━━━━━━━━━━━━━━━━━━━━━━━\u001b[0m \u001b[32m50.8/50.8 kB\u001b[0m \u001b[31m5.8 MB/s\u001b[0m eta \u001b[36m0:00:00\u001b[0m\n",
            "\u001b[?25hCollecting colorlog<5.0,>=4.0.2 (from apache-airflow)\n",
            "  Downloading colorlog-4.8.0-py2.py3-none-any.whl (10 kB)\n",
            "Collecting configupdater>=3.1.1 (from apache-airflow)\n",
            "  Downloading ConfigUpdater-3.1.1-py2.py3-none-any.whl (34 kB)\n",
            "Collecting connexion[flask]<3.0,>=2.10.0 (from apache-airflow)\n",
            "  Downloading connexion-2.14.2-py2.py3-none-any.whl (95 kB)\n",
            "\u001b[2K     \u001b[90m━━━━━━━━━━━━━━━━━━━━━━━━━━━━━━━━━━━━━━━━\u001b[0m \u001b[32m95.1/95.1 kB\u001b[0m \u001b[31m10.9 MB/s\u001b[0m eta \u001b[36m0:00:00\u001b[0m\n",
            "\u001b[?25hCollecting cron-descriptor>=1.2.24 (from apache-airflow)\n",
            "  Downloading cron_descriptor-1.4.0.tar.gz (29 kB)\n",
            "  Preparing metadata (setup.py) ... \u001b[?25l\u001b[?25hdone\n",
            "Collecting croniter>=0.3.17 (from apache-airflow)\n",
            "  Downloading croniter-2.0.1-py2.py3-none-any.whl (19 kB)\n",
            "Requirement already satisfied: cryptography>=0.9.3 in /usr/local/lib/python3.10/dist-packages (from apache-airflow) (41.0.5)\n",
            "Collecting deprecated>=1.2.13 (from apache-airflow)\n",
            "  Downloading Deprecated-1.2.14-py2.py3-none-any.whl (9.6 kB)\n",
            "Collecting dill>=0.2.2 (from apache-airflow)\n",
            "  Downloading dill-0.3.7-py3-none-any.whl (115 kB)\n",
            "\u001b[2K     \u001b[90m━━━━━━━━━━━━━━━━━━━━━━━━━━━━━━━━━━━━━━━━\u001b[0m \u001b[32m115.3/115.3 kB\u001b[0m \u001b[31m13.4 MB/s\u001b[0m eta \u001b[36m0:00:00\u001b[0m\n",
            "\u001b[?25hRequirement already satisfied: flask<2.3,>=2.2 in /usr/local/lib/python3.10/dist-packages (from apache-airflow) (2.2.5)\n",
            "Collecting flask-appbuilder==4.3.6 (from apache-airflow)\n",
            "  Downloading Flask_AppBuilder-4.3.6-py3-none-any.whl (1.7 MB)\n",
            "\u001b[2K     \u001b[90m━━━━━━━━━━━━━━━━━━━━━━━━━━━━━━━━━━━━━━━━\u001b[0m \u001b[32m1.7/1.7 MB\u001b[0m \u001b[31m56.8 MB/s\u001b[0m eta \u001b[36m0:00:00\u001b[0m\n",
            "\u001b[?25hCollecting flask-caching>=1.5.0 (from apache-airflow)\n",
            "  Downloading Flask_Caching-2.1.0-py3-none-any.whl (28 kB)\n",
            "Collecting flask-login>=0.6.2 (from apache-airflow)\n",
            "  Downloading Flask_Login-0.6.3-py3-none-any.whl (17 kB)\n",
            "Collecting flask-session>=0.4.0 (from apache-airflow)\n",
            "  Downloading flask_session-0.5.0-py3-none-any.whl (7.2 kB)\n",
            "Collecting flask-wtf>=0.15 (from apache-airflow)\n",
            "  Downloading flask_wtf-1.2.1-py3-none-any.whl (12 kB)\n",
            "Collecting google-re2>=1.0 (from apache-airflow)\n",
            "  Downloading google_re2-1.1-3-cp310-cp310-manylinux_2_24_x86_64.manylinux_2_28_x86_64.whl (511 kB)\n",
            "\u001b[2K     \u001b[90m━━━━━━━━━━━━━━━━━━━━━━━━━━━━━━━━━━━━━━━━\u001b[0m \u001b[32m511.3/511.3 kB\u001b[0m \u001b[31m38.6 MB/s\u001b[0m eta \u001b[36m0:00:00\u001b[0m\n",
            "\u001b[?25hRequirement already satisfied: graphviz>=0.12 in /usr/local/lib/python3.10/dist-packages (from apache-airflow) (0.20.1)\n",
            "Collecting gunicorn>=20.1.0 (from apache-airflow)\n",
            "  Downloading gunicorn-21.2.0-py3-none-any.whl (80 kB)\n",
            "\u001b[2K     \u001b[90m━━━━━━━━━━━━━━━━━━━━━━━━━━━━━━━━━━━━━━━━\u001b[0m \u001b[32m80.2/80.2 kB\u001b[0m \u001b[31m8.9 MB/s\u001b[0m eta \u001b[36m0:00:00\u001b[0m\n",
            "\u001b[?25hCollecting httpx (from apache-airflow)\n",
            "  Downloading httpx-0.25.1-py3-none-any.whl (75 kB)\n",
            "\u001b[2K     \u001b[90m━━━━━━━━━━━━━━━━━━━━━━━━━━━━━━━━━━━━━━━━\u001b[0m \u001b[32m75.0/75.0 kB\u001b[0m \u001b[31m9.6 MB/s\u001b[0m eta \u001b[36m0:00:00\u001b[0m\n",
            "\u001b[?25hRequirement already satisfied: itsdangerous>=2.0 in /usr/local/lib/python3.10/dist-packages (from apache-airflow) (2.1.2)\n",
            "Requirement already satisfied: jinja2>=3.0.0 in /usr/local/lib/python3.10/dist-packages (from apache-airflow) (3.1.2)\n",
            "Requirement already satisfied: jsonschema>=4.18.0 in /usr/local/lib/python3.10/dist-packages (from apache-airflow) (4.19.2)\n",
            "Collecting lazy-object-proxy (from apache-airflow)\n",
            "  Downloading lazy_object_proxy-1.9.0-cp310-cp310-manylinux_2_5_x86_64.manylinux1_x86_64.manylinux_2_17_x86_64.manylinux2014_x86_64.whl (63 kB)\n",
            "\u001b[2K     \u001b[90m━━━━━━━━━━━━━━━━━━━━━━━━━━━━━━━━━━━━━━━━\u001b[0m \u001b[32m63.3/63.3 kB\u001b[0m \u001b[31m7.4 MB/s\u001b[0m eta \u001b[36m0:00:00\u001b[0m\n",
            "\u001b[?25hRequirement already satisfied: linkify-it-py>=2.0.0 in /usr/local/lib/python3.10/dist-packages (from apache-airflow) (2.0.2)\n",
            "Collecting lockfile>=0.12.2 (from apache-airflow)\n",
            "  Downloading lockfile-0.12.2-py2.py3-none-any.whl (13 kB)\n",
            "Requirement already satisfied: markdown>=3.0 in /usr/local/lib/python3.10/dist-packages (from apache-airflow) (3.5.1)\n",
            "Requirement already satisfied: markdown-it-py>=2.1.0 in /usr/local/lib/python3.10/dist-packages (from apache-airflow) (3.0.0)\n",
            "Requirement already satisfied: markupsafe>=1.1.1 in /usr/local/lib/python3.10/dist-packages (from apache-airflow) (2.1.3)\n",
            "Collecting marshmallow-oneofschema>=2.0.1 (from apache-airflow)\n",
            "  Downloading marshmallow_oneofschema-3.0.1-py2.py3-none-any.whl (5.8 kB)\n",
            "Requirement already satisfied: mdit-py-plugins>=0.3.0 in /usr/local/lib/python3.10/dist-packages (from apache-airflow) (0.4.0)\n",
            "Collecting opentelemetry-api>=1.15.0 (from apache-airflow)\n",
            "  Downloading opentelemetry_api-1.21.0-py3-none-any.whl (57 kB)\n",
            "\u001b[2K     \u001b[90m━━━━━━━━━━━━━━━━━━━━━━━━━━━━━━━━━━━━━━━━\u001b[0m \u001b[32m57.9/57.9 kB\u001b[0m \u001b[31m6.4 MB/s\u001b[0m eta \u001b[36m0:00:00\u001b[0m\n",
            "\u001b[?25hCollecting opentelemetry-exporter-otlp (from apache-airflow)\n",
            "  Downloading opentelemetry_exporter_otlp-1.21.0-py3-none-any.whl (7.0 kB)\n",
            "Requirement already satisfied: packaging>=14.0 in /usr/local/lib/python3.10/dist-packages (from apache-airflow) (23.2)\n",
            "Collecting pathspec>=0.9.0 (from apache-airflow)\n",
            "  Downloading pathspec-0.11.2-py3-none-any.whl (29 kB)\n",
            "Collecting pendulum<3.0,>=2.0 (from apache-airflow)\n",
            "  Downloading pendulum-2.1.2.tar.gz (81 kB)\n",
            "\u001b[2K     \u001b[90m━━━━━━━━━━━━━━━━━━━━━━━━━━━━━━━━━━━━━━━━\u001b[0m \u001b[32m81.2/81.2 kB\u001b[0m \u001b[31m9.9 MB/s\u001b[0m eta \u001b[36m0:00:00\u001b[0m\n",
            "\u001b[?25h  Installing build dependencies ... \u001b[?25l\u001b[?25hdone\n",
            "  Getting requirements to build wheel ... \u001b[?25l\u001b[?25hdone\n",
            "  Preparing metadata (pyproject.toml) ... \u001b[?25l\u001b[?25hdone\n",
            "Requirement already satisfied: pluggy>=1.0 in /usr/local/lib/python3.10/dist-packages (from apache-airflow) (1.3.0)\n",
            "Requirement already satisfied: psutil>=4.2.0 in /usr/local/lib/python3.10/dist-packages (from apache-airflow) (5.9.5)\n",
            "Requirement already satisfied: pydantic>=1.10.0 in /usr/local/lib/python3.10/dist-packages (from apache-airflow) (1.10.13)\n",
            "Requirement already satisfied: pygments>=2.0.1 in /usr/local/lib/python3.10/dist-packages (from apache-airflow) (2.16.1)\n",
            "Requirement already satisfied: pyjwt>=2.0.0 in /usr/lib/python3/dist-packages (from apache-airflow) (2.3.0)\n",
            "Collecting python-daemon>=3.0.0 (from apache-airflow)\n",
            "  Downloading python_daemon-3.0.1-py3-none-any.whl (31 kB)\n",
            "Requirement already satisfied: python-dateutil>=2.3 in /usr/local/lib/python3.10/dist-packages (from apache-airflow) (2.8.2)\n",
            "Collecting python-nvd3>=0.15.0 (from apache-airflow)\n",
            "  Downloading python-nvd3-0.15.0.tar.gz (31 kB)\n",
            "  Preparing metadata (setup.py) ... \u001b[?25l\u001b[?25hdone\n",
            "Requirement already satisfied: python-slugify>=5.0 in /usr/local/lib/python3.10/dist-packages (from apache-airflow) (8.0.1)\n",
            "Collecting rfc3339-validator>=0.1.4 (from apache-airflow)\n",
            "  Downloading rfc3339_validator-0.1.4-py2.py3-none-any.whl (3.5 kB)\n",
            "Requirement already satisfied: rich>=12.4.4 in /usr/local/lib/python3.10/dist-packages (from apache-airflow) (13.6.0)\n",
            "Collecting rich-argparse>=1.0.0 (from apache-airflow)\n",
            "  Downloading rich_argparse-1.4.0-py3-none-any.whl (19 kB)\n",
            "Collecting setproctitle>=1.1.8 (from apache-airflow)\n",
            "  Downloading setproctitle-1.3.3-cp310-cp310-manylinux_2_5_x86_64.manylinux1_x86_64.manylinux_2_17_x86_64.manylinux2014_x86_64.whl (30 kB)\n",
            "Collecting sqlalchemy<2.0,>=1.4.28 (from apache-airflow)\n",
            "  Downloading SQLAlchemy-1.4.50-cp310-cp310-manylinux_2_5_x86_64.manylinux1_x86_64.manylinux_2_17_x86_64.manylinux2014_x86_64.whl (1.6 MB)\n",
            "\u001b[2K     \u001b[90m━━━━━━━━━━━━━━━━━━━━━━━━━━━━━━━━━━━━━━━━\u001b[0m \u001b[32m1.6/1.6 MB\u001b[0m \u001b[31m66.6 MB/s\u001b[0m eta \u001b[36m0:00:00\u001b[0m\n",
            "\u001b[?25hCollecting sqlalchemy-jsonfield>=1.0 (from apache-airflow)\n",
            "  Downloading SQLAlchemy_JSONField-1.0.1.post0-py3-none-any.whl (10 kB)\n",
            "Requirement already satisfied: tabulate>=0.7.5 in /usr/local/lib/python3.10/dist-packages (from apache-airflow) (0.9.0)\n",
            "Requirement already satisfied: tenacity!=8.2.0,>=6.2.0 in /usr/local/lib/python3.10/dist-packages (from apache-airflow) (8.2.3)\n",
            "Requirement already satisfied: termcolor>=1.1.0 in /usr/local/lib/python3.10/dist-packages (from apache-airflow) (2.3.0)\n",
            "Requirement already satisfied: typing-extensions>=4.0.0 in /usr/local/lib/python3.10/dist-packages (from apache-airflow) (4.5.0)\n",
            "Collecting unicodecsv>=0.14.1 (from apache-airflow)\n",
            "  Downloading unicodecsv-0.14.1.tar.gz (10 kB)\n",
            "  Preparing metadata (setup.py) ... \u001b[?25l\u001b[?25hdone\n",
            "Requirement already satisfied: werkzeug>=2.0 in /usr/local/lib/python3.10/dist-packages (from apache-airflow) (3.0.1)\n",
            "Collecting apache-airflow-providers-common-sql (from apache-airflow)\n",
            "  Downloading apache_airflow_providers_common_sql-1.8.0-py3-none-any.whl (31 kB)\n",
            "Collecting apache-airflow-providers-ftp (from apache-airflow)\n",
            "  Downloading apache_airflow_providers_ftp-3.6.0-py3-none-any.whl (18 kB)\n",
            "Collecting apache-airflow-providers-http (from apache-airflow)\n",
            "  Downloading apache_airflow_providers_http-4.6.0-py3-none-any.whl (24 kB)\n",
            "Collecting apache-airflow-providers-imap (from apache-airflow)\n",
            "  Downloading apache_airflow_providers_imap-3.4.0-py3-none-any.whl (17 kB)\n",
            "Collecting apache-airflow-providers-sqlite (from apache-airflow)\n",
            "  Downloading apache_airflow_providers_sqlite-3.5.0-py3-none-any.whl (13 kB)\n",
            "Collecting apispec[yaml]<7,>=6.0.0 (from flask-appbuilder==4.3.6->apache-airflow)\n",
            "  Downloading apispec-6.3.0-py3-none-any.whl (29 kB)\n",
            "Collecting colorama<1,>=0.3.9 (from flask-appbuilder==4.3.6->apache-airflow)\n",
            "  Downloading colorama-0.4.6-py2.py3-none-any.whl (25 kB)\n",
            "Requirement already satisfied: click<9,>=8 in /usr/local/lib/python3.10/dist-packages (from flask-appbuilder==4.3.6->apache-airflow) (8.1.7)\n",
            "Collecting email-validator<2,>=1.0.5 (from flask-appbuilder==4.3.6->apache-airflow)\n",
            "  Downloading email_validator-1.3.1-py2.py3-none-any.whl (22 kB)\n",
            "Collecting Flask-Babel<3,>=1 (from flask-appbuilder==4.3.6->apache-airflow)\n",
            "  Downloading Flask_Babel-2.0.0-py3-none-any.whl (9.3 kB)\n",
            "Collecting Flask-Limiter<4,>3 (from flask-appbuilder==4.3.6->apache-airflow)\n",
            "  Downloading Flask_Limiter-3.5.0-py3-none-any.whl (28 kB)\n",
            "Collecting Flask-SQLAlchemy<3,>=2.4 (from flask-appbuilder==4.3.6->apache-airflow)\n",
            "  Downloading Flask_SQLAlchemy-2.5.1-py2.py3-none-any.whl (17 kB)\n",
            "Collecting Flask-JWT-Extended<5.0.0,>=4.0.0 (from flask-appbuilder==4.3.6->apache-airflow)\n",
            "  Downloading Flask_JWT_Extended-4.5.3-py2.py3-none-any.whl (22 kB)\n",
            "Collecting marshmallow<4,>=3.18.0 (from flask-appbuilder==4.3.6->apache-airflow)\n",
            "  Downloading marshmallow-3.20.1-py3-none-any.whl (49 kB)\n",
            "\u001b[2K     \u001b[90m━━━━━━━━━━━━━━━━━━━━━━━━━━━━━━━━━━━━━━━━\u001b[0m \u001b[32m49.4/49.4 kB\u001b[0m \u001b[31m6.6 MB/s\u001b[0m eta \u001b[36m0:00:00\u001b[0m\n",
            "\u001b[?25hCollecting marshmallow-sqlalchemy<0.27.0,>=0.22.0 (from flask-appbuilder==4.3.6->apache-airflow)\n",
            "  Downloading marshmallow_sqlalchemy-0.26.1-py2.py3-none-any.whl (15 kB)\n",
            "Collecting prison<1.0.0,>=0.2.1 (from flask-appbuilder==4.3.6->apache-airflow)\n",
            "  Downloading prison-0.2.1-py2.py3-none-any.whl (5.8 kB)\n",
            "Collecting sqlalchemy-utils<1,>=0.32.21 (from flask-appbuilder==4.3.6->apache-airflow)\n",
            "  Downloading SQLAlchemy_Utils-0.41.1-py3-none-any.whl (92 kB)\n",
            "\u001b[2K     \u001b[90m━━━━━━━━━━━━━━━━━━━━━━━━━━━━━━━━━━━━━━━━\u001b[0m \u001b[32m92.6/92.6 kB\u001b[0m \u001b[31m10.9 MB/s\u001b[0m eta \u001b[36m0:00:00\u001b[0m\n",
            "\u001b[?25hCollecting Mako (from alembic<2.0,>=1.6.3->apache-airflow)\n",
            "  Downloading Mako-1.3.0-py3-none-any.whl (78 kB)\n",
            "\u001b[2K     \u001b[90m━━━━━━━━━━━━━━━━━━━━━━━━━━━━━━━━━━━━━━━━\u001b[0m \u001b[32m78.6/78.6 kB\u001b[0m \u001b[31m9.1 MB/s\u001b[0m eta \u001b[36m0:00:00\u001b[0m\n",
            "\u001b[?25hRequirement already satisfied: exceptiongroup in /usr/local/lib/python3.10/dist-packages (from cattrs>=22.1.0->apache-airflow) (1.1.3)\n",
            "Collecting clickclick<21,>=1.2 (from connexion[flask]<3.0,>=2.10.0->apache-airflow)\n",
            "  Downloading clickclick-20.10.2-py2.py3-none-any.whl (7.4 kB)\n",
            "Requirement already satisfied: PyYAML<7,>=5.1 in /usr/local/lib/python3.10/dist-packages (from connexion[flask]<3.0,>=2.10.0->apache-airflow) (6.0.1)\n",
            "Requirement already satisfied: requests<3,>=2.9.1 in /usr/local/lib/python3.10/dist-packages (from connexion[flask]<3.0,>=2.10.0->apache-airflow) (2.31.0)\n",
            "Collecting inflection<0.6,>=0.3.1 (from connexion[flask]<3.0,>=2.10.0->apache-airflow)\n",
            "  Downloading inflection-0.5.1-py2.py3-none-any.whl (9.5 kB)\n",
            "Collecting werkzeug>=2.0 (from apache-airflow)\n",
            "  Downloading Werkzeug-2.2.3-py3-none-any.whl (233 kB)\n",
            "\u001b[2K     \u001b[90m━━━━━━━━━━━━━━━━━━━━━━━━━━━━━━━━━━━━━━━━\u001b[0m \u001b[32m233.6/233.6 kB\u001b[0m \u001b[31m21.1 MB/s\u001b[0m eta \u001b[36m0:00:00\u001b[0m\n",
            "\u001b[?25hRequirement already satisfied: pytz>2021.1 in /usr/local/lib/python3.10/dist-packages (from croniter>=0.3.17->apache-airflow) (2023.3.post1)\n",
            "Requirement already satisfied: cffi>=1.12 in /usr/local/lib/python3.10/dist-packages (from cryptography>=0.9.3->apache-airflow) (1.16.0)\n",
            "Requirement already satisfied: wrapt<2,>=1.10 in /usr/local/lib/python3.10/dist-packages (from deprecated>=1.2.13->apache-airflow) (1.14.1)\n",
            "Collecting cachelib<0.10.0,>=0.9.0 (from flask-caching>=1.5.0->apache-airflow)\n",
            "  Downloading cachelib-0.9.0-py3-none-any.whl (15 kB)\n",
            "Requirement already satisfied: jsonschema-specifications>=2023.03.6 in /usr/local/lib/python3.10/dist-packages (from jsonschema>=4.18.0->apache-airflow) (2023.7.1)\n",
            "Requirement already satisfied: referencing>=0.28.4 in /usr/local/lib/python3.10/dist-packages (from jsonschema>=4.18.0->apache-airflow) (0.30.2)\n",
            "Requirement already satisfied: rpds-py>=0.7.1 in /usr/local/lib/python3.10/dist-packages (from jsonschema>=4.18.0->apache-airflow) (0.11.0)\n",
            "Requirement already satisfied: uc-micro-py in /usr/local/lib/python3.10/dist-packages (from linkify-it-py>=2.0.0->apache-airflow) (1.0.2)\n",
            "Requirement already satisfied: mdurl~=0.1 in /usr/local/lib/python3.10/dist-packages (from markdown-it-py>=2.1.0->apache-airflow) (0.1.2)\n",
            "Requirement already satisfied: importlib-metadata<7.0,>=6.0 in /usr/local/lib/python3.10/dist-packages (from opentelemetry-api>=1.15.0->apache-airflow) (6.8.0)\n",
            "Collecting pytzdata>=2020.1 (from pendulum<3.0,>=2.0->apache-airflow)\n",
            "  Downloading pytzdata-2020.1-py2.py3-none-any.whl (489 kB)\n",
            "\u001b[2K     \u001b[90m━━━━━━━━━━━━━━━━━━━━━━━━━━━━━━━━━━━━━━━━\u001b[0m \u001b[32m490.0/490.0 kB\u001b[0m \u001b[31m41.4 MB/s\u001b[0m eta \u001b[36m0:00:00\u001b[0m\n",
            "\u001b[?25hRequirement already satisfied: docutils in /usr/local/lib/python3.10/dist-packages (from python-daemon>=3.0.0->apache-airflow) (0.18.1)\n",
            "Requirement already satisfied: setuptools>=62.4.0 in /usr/local/lib/python3.10/dist-packages (from python-daemon>=3.0.0->apache-airflow) (67.7.2)\n",
            "Requirement already satisfied: six>=1.5 in /usr/local/lib/python3.10/dist-packages (from python-dateutil>=2.3->apache-airflow) (1.16.0)\n",
            "Requirement already satisfied: text-unidecode>=1.3 in /usr/local/lib/python3.10/dist-packages (from python-slugify>=5.0->apache-airflow) (1.3)\n",
            "Requirement already satisfied: greenlet!=0.4.17 in /usr/local/lib/python3.10/dist-packages (from sqlalchemy<2.0,>=1.4.28->apache-airflow) (3.0.1)\n",
            "Requirement already satisfied: sqlparse>=0.4.2 in /usr/local/lib/python3.10/dist-packages (from apache-airflow-providers-common-sql->apache-airflow) (0.4.4)\n",
            "Requirement already satisfied: aiohttp in /usr/local/lib/python3.10/dist-packages (from apache-airflow-providers-http->apache-airflow) (3.8.6)\n",
            "Collecting requests-toolbelt (from apache-airflow-providers-http->apache-airflow)\n",
            "  Downloading requests_toolbelt-1.0.0-py2.py3-none-any.whl (54 kB)\n",
            "\u001b[2K     \u001b[90m━━━━━━━━━━━━━━━━━━━━━━━━━━━━━━━━━━━━━━━━\u001b[0m \u001b[32m54.5/54.5 kB\u001b[0m \u001b[31m6.7 MB/s\u001b[0m eta \u001b[36m0:00:00\u001b[0m\n",
            "\u001b[?25hRequirement already satisfied: anyio in /usr/local/lib/python3.10/dist-packages (from httpx->apache-airflow) (3.7.1)\n",
            "Requirement already satisfied: certifi in /usr/local/lib/python3.10/dist-packages (from httpx->apache-airflow) (2023.7.22)\n",
            "Collecting httpcore (from httpx->apache-airflow)\n",
            "  Downloading httpcore-1.0.1-py3-none-any.whl (76 kB)\n",
            "\u001b[2K     \u001b[90m━━━━━━━━━━━━━━━━━━━━━━━━━━━━━━━━━━━━━━━━\u001b[0m \u001b[32m76.9/76.9 kB\u001b[0m \u001b[31m7.7 MB/s\u001b[0m eta \u001b[36m0:00:00\u001b[0m\n",
            "\u001b[?25hRequirement already satisfied: idna in /usr/local/lib/python3.10/dist-packages (from httpx->apache-airflow) (3.4)\n",
            "Requirement already satisfied: sniffio in /usr/local/lib/python3.10/dist-packages (from httpx->apache-airflow) (1.3.0)\n",
            "Collecting opentelemetry-exporter-otlp-proto-grpc==1.21.0 (from opentelemetry-exporter-otlp->apache-airflow)\n",
            "  Downloading opentelemetry_exporter_otlp_proto_grpc-1.21.0-py3-none-any.whl (18 kB)\n",
            "Collecting opentelemetry-exporter-otlp-proto-http==1.21.0 (from opentelemetry-exporter-otlp->apache-airflow)\n",
            "  Downloading opentelemetry_exporter_otlp_proto_http-1.21.0-py3-none-any.whl (16 kB)\n",
            "Collecting backoff<3.0.0,>=1.10.0 (from opentelemetry-exporter-otlp-proto-grpc==1.21.0->opentelemetry-exporter-otlp->apache-airflow)\n",
            "  Downloading backoff-2.2.1-py3-none-any.whl (15 kB)\n",
            "Requirement already satisfied: googleapis-common-protos~=1.52 in /usr/local/lib/python3.10/dist-packages (from opentelemetry-exporter-otlp-proto-grpc==1.21.0->opentelemetry-exporter-otlp->apache-airflow) (1.61.0)\n",
            "Requirement already satisfied: grpcio<2.0.0,>=1.0.0 in /usr/local/lib/python3.10/dist-packages (from opentelemetry-exporter-otlp-proto-grpc==1.21.0->opentelemetry-exporter-otlp->apache-airflow) (1.59.2)\n",
            "Collecting opentelemetry-exporter-otlp-proto-common==1.21.0 (from opentelemetry-exporter-otlp-proto-grpc==1.21.0->opentelemetry-exporter-otlp->apache-airflow)\n",
            "  Downloading opentelemetry_exporter_otlp_proto_common-1.21.0-py3-none-any.whl (17 kB)\n",
            "Collecting opentelemetry-proto==1.21.0 (from opentelemetry-exporter-otlp-proto-grpc==1.21.0->opentelemetry-exporter-otlp->apache-airflow)\n",
            "  Downloading opentelemetry_proto-1.21.0-py3-none-any.whl (50 kB)\n",
            "\u001b[2K     \u001b[90m━━━━━━━━━━━━━━━━━━━━━━━━━━━━━━━━━━━━━━━━\u001b[0m \u001b[32m50.8/50.8 kB\u001b[0m \u001b[31m5.7 MB/s\u001b[0m eta \u001b[36m0:00:00\u001b[0m\n",
            "\u001b[?25hCollecting opentelemetry-sdk~=1.21.0 (from opentelemetry-exporter-otlp-proto-grpc==1.21.0->opentelemetry-exporter-otlp->apache-airflow)\n",
            "  Downloading opentelemetry_sdk-1.21.0-py3-none-any.whl (105 kB)\n",
            "\u001b[2K     \u001b[90m━━━━━━━━━━━━━━━━━━━━━━━━━━━━━━━━━━━━━━━━\u001b[0m \u001b[32m105.3/105.3 kB\u001b[0m \u001b[31m11.8 MB/s\u001b[0m eta \u001b[36m0:00:00\u001b[0m\n",
            "\u001b[?25hRequirement already satisfied: protobuf<5.0,>=3.19 in /usr/local/lib/python3.10/dist-packages (from opentelemetry-proto==1.21.0->opentelemetry-exporter-otlp-proto-grpc==1.21.0->opentelemetry-exporter-otlp->apache-airflow) (3.20.3)\n",
            "Requirement already satisfied: pycparser in /usr/local/lib/python3.10/dist-packages (from cffi>=1.12->cryptography>=0.9.3->apache-airflow) (2.21)\n",
            "Collecting dnspython>=1.15.0 (from email-validator<2,>=1.0.5->flask-appbuilder==4.3.6->apache-airflow)\n",
            "  Downloading dnspython-2.4.2-py3-none-any.whl (300 kB)\n",
            "\u001b[2K     \u001b[90m━━━━━━━━━━━━━━━━━━━━━━━━━━━━━━━━━━━━━━━━\u001b[0m \u001b[32m300.4/300.4 kB\u001b[0m \u001b[31m26.4 MB/s\u001b[0m eta \u001b[36m0:00:00\u001b[0m\n",
            "\u001b[?25hRequirement already satisfied: Babel>=2.3 in /usr/local/lib/python3.10/dist-packages (from Flask-Babel<3,>=1->flask-appbuilder==4.3.6->apache-airflow) (2.13.1)\n",
            "Collecting limits>=2.8 (from Flask-Limiter<4,>3->flask-appbuilder==4.3.6->apache-airflow)\n",
            "  Downloading limits-3.6.0-py3-none-any.whl (42 kB)\n",
            "\u001b[2K     \u001b[90m━━━━━━━━━━━━━━━━━━━━━━━━━━━━━━━━━━━━━━━━\u001b[0m \u001b[32m43.0/43.0 kB\u001b[0m \u001b[31m4.6 MB/s\u001b[0m eta \u001b[36m0:00:00\u001b[0m\n",
            "\u001b[?25hCollecting ordered-set<5,>4 (from Flask-Limiter<4,>3->flask-appbuilder==4.3.6->apache-airflow)\n",
            "  Downloading ordered_set-4.1.0-py3-none-any.whl (7.6 kB)\n",
            "Requirement already satisfied: zipp>=0.5 in /usr/local/lib/python3.10/dist-packages (from importlib-metadata<7.0,>=6.0->opentelemetry-api>=1.15.0->apache-airflow) (3.17.0)\n",
            "Requirement already satisfied: charset-normalizer<4,>=2 in /usr/local/lib/python3.10/dist-packages (from requests<3,>=2.9.1->connexion[flask]<3.0,>=2.10.0->apache-airflow) (3.3.2)\n",
            "Requirement already satisfied: urllib3<3,>=1.21.1 in /usr/local/lib/python3.10/dist-packages (from requests<3,>=2.9.1->connexion[flask]<3.0,>=2.10.0->apache-airflow) (2.0.7)\n",
            "Requirement already satisfied: multidict<7.0,>=4.5 in /usr/local/lib/python3.10/dist-packages (from aiohttp->apache-airflow-providers-http->apache-airflow) (6.0.4)\n",
            "Requirement already satisfied: async-timeout<5.0,>=4.0.0a3 in /usr/local/lib/python3.10/dist-packages (from aiohttp->apache-airflow-providers-http->apache-airflow) (4.0.3)\n",
            "Requirement already satisfied: yarl<2.0,>=1.0 in /usr/local/lib/python3.10/dist-packages (from aiohttp->apache-airflow-providers-http->apache-airflow) (1.9.2)\n",
            "Requirement already satisfied: frozenlist>=1.1.1 in /usr/local/lib/python3.10/dist-packages (from aiohttp->apache-airflow-providers-http->apache-airflow) (1.4.0)\n",
            "Requirement already satisfied: aiosignal>=1.1.2 in /usr/local/lib/python3.10/dist-packages (from aiohttp->apache-airflow-providers-http->apache-airflow) (1.3.1)\n",
            "Collecting h11<0.15,>=0.13 (from httpcore->httpx->apache-airflow)\n",
            "  Downloading h11-0.14.0-py3-none-any.whl (58 kB)\n",
            "\u001b[2K     \u001b[90m━━━━━━━━━━━━━━━━━━━━━━━━━━━━━━━━━━━━━━━━\u001b[0m \u001b[32m58.3/58.3 kB\u001b[0m \u001b[31m7.0 MB/s\u001b[0m eta \u001b[36m0:00:00\u001b[0m\n",
            "\u001b[?25hRequirement already satisfied: importlib-resources>=1.3 in /usr/local/lib/python3.10/dist-packages (from limits>=2.8->Flask-Limiter<4,>3->flask-appbuilder==4.3.6->apache-airflow) (6.1.0)\n",
            "Collecting opentelemetry-semantic-conventions==0.42b0 (from opentelemetry-sdk~=1.21.0->opentelemetry-exporter-otlp-proto-grpc==1.21.0->opentelemetry-exporter-otlp->apache-airflow)\n",
            "  Downloading opentelemetry_semantic_conventions-0.42b0-py3-none-any.whl (36 kB)\n",
            "Building wheels for collected packages: cron-descriptor, pendulum, python-nvd3, unicodecsv\n",
            "  Building wheel for cron-descriptor (setup.py) ... \u001b[?25l\u001b[?25hdone\n",
            "  Created wheel for cron-descriptor: filename=cron_descriptor-1.4.0-py3-none-any.whl size=49836 sha256=6c5a407c4971e6beb29b3f38f9a7f964feae363337d2000cb925db8906c4ffcf\n",
            "  Stored in directory: /root/.cache/pip/wheels/98/ff/fb/d908f229155ad6b65c7a34e9d35774fd1f40579241c3a5f924\n",
            "  Building wheel for pendulum (pyproject.toml) ... \u001b[?25l\u001b[?25hdone\n",
            "  Created wheel for pendulum: filename=pendulum-2.1.2-cp310-cp310-manylinux_2_35_x86_64.whl size=158452 sha256=67805ffd61f3377d004ea8c0763d6e465d4f709a8bae53adf1e22e41a031b304\n",
            "  Stored in directory: /root/.cache/pip/wheels/2e/41/ed/f113e4c9dc10f6c846d69f412e9cd9aa429960a3e2e485a4f9\n",
            "  Building wheel for python-nvd3 (setup.py) ... \u001b[?25l\u001b[?25hdone\n",
            "  Created wheel for python-nvd3: filename=python_nvd3-0.15.0-py3-none-any.whl size=38144 sha256=382b18d0ab22b63dc7b4b4241041c014fa9ee39d516097cff3cb47f7d2450bc9\n",
            "  Stored in directory: /root/.cache/pip/wheels/80/e7/4e/d99e473adde7dd21b9938d4d32bf823ca334e7979632d6a64c\n",
            "  Building wheel for unicodecsv (setup.py) ... \u001b[?25l\u001b[?25hdone\n",
            "  Created wheel for unicodecsv: filename=unicodecsv-0.14.1-py3-none-any.whl size=10746 sha256=b0ce94cab487efebd337baf30b5265149c7c9723e1fae76e32a12757b6268e98\n",
            "  Stored in directory: /root/.cache/pip/wheels/9c/ea/66/8e45247b09052a933eb1a680b7c64802298faba58aac9b346b\n",
            "Successfully built cron-descriptor pendulum python-nvd3 unicodecsv\n",
            "Installing collected packages: unicodecsv, lockfile, cron-descriptor, colorlog, WTForms, werkzeug, sqlalchemy, setproctitle, rfc3339-validator, pytzdata, python-daemon, prison, pathspec, ordered-set, opentelemetry-semantic-conventions, opentelemetry-proto, marshmallow, Mako, lazy-object-proxy, inflection, h11, gunicorn, google-re2, dnspython, dill, deprecated, configupdater, colorama, clickclick, cattrs, cachelib, backoff, asgiref, argcomplete, apispec, sqlalchemy-utils, sqlalchemy-jsonfield, requests-toolbelt, python-nvd3, pendulum, opentelemetry-exporter-otlp-proto-common, opentelemetry-api, marshmallow-sqlalchemy, marshmallow-oneofschema, limits, httpcore, email-validator, croniter, alembic, rich-argparse, opentelemetry-sdk, httpx, flask-wtf, Flask-SQLAlchemy, flask-session, flask-login, Flask-Limiter, Flask-JWT-Extended, flask-caching, Flask-Babel, opentelemetry-exporter-otlp-proto-http, opentelemetry-exporter-otlp-proto-grpc, flask-appbuilder, connexion, opentelemetry-exporter-otlp, apache-airflow-providers-common-sql, apache-airflow-providers-sqlite, apache-airflow-providers-imap, apache-airflow-providers-http, apache-airflow-providers-ftp, apache-airflow\n",
            "  Attempting uninstall: werkzeug\n",
            "    Found existing installation: Werkzeug 3.0.1\n",
            "    Uninstalling Werkzeug-3.0.1:\n",
            "      Successfully uninstalled Werkzeug-3.0.1\n",
            "  Attempting uninstall: sqlalchemy\n",
            "    Found existing installation: SQLAlchemy 2.0.23\n",
            "    Uninstalling SQLAlchemy-2.0.23:\n",
            "      Successfully uninstalled SQLAlchemy-2.0.23\n",
            "\u001b[31mERROR: pip's dependency resolver does not currently take into account all the packages that are installed. This behaviour is the source of the following dependency conflicts.\n",
            "ipython-sql 0.5.0 requires sqlalchemy>=2.0, but you have sqlalchemy 1.4.50 which is incompatible.\u001b[0m\u001b[31m\n",
            "\u001b[0mSuccessfully installed Flask-Babel-2.0.0 Flask-JWT-Extended-4.5.3 Flask-Limiter-3.5.0 Flask-SQLAlchemy-2.5.1 Mako-1.3.0 WTForms-3.0.1 alembic-1.12.1 apache-airflow-2.7.3 apache-airflow-providers-common-sql-1.8.0 apache-airflow-providers-ftp-3.6.0 apache-airflow-providers-http-4.6.0 apache-airflow-providers-imap-3.4.0 apache-airflow-providers-sqlite-3.5.0 apispec-6.3.0 argcomplete-3.1.4 asgiref-3.7.2 backoff-2.2.1 cachelib-0.9.0 cattrs-23.1.2 clickclick-20.10.2 colorama-0.4.6 colorlog-4.8.0 configupdater-3.1.1 connexion-2.14.2 cron-descriptor-1.4.0 croniter-2.0.1 deprecated-1.2.14 dill-0.3.7 dnspython-2.4.2 email-validator-1.3.1 flask-appbuilder-4.3.6 flask-caching-2.1.0 flask-login-0.6.3 flask-session-0.5.0 flask-wtf-1.2.1 google-re2-1.1 gunicorn-21.2.0 h11-0.14.0 httpcore-1.0.1 httpx-0.25.1 inflection-0.5.1 lazy-object-proxy-1.9.0 limits-3.6.0 lockfile-0.12.2 marshmallow-3.20.1 marshmallow-oneofschema-3.0.1 marshmallow-sqlalchemy-0.26.1 opentelemetry-api-1.21.0 opentelemetry-exporter-otlp-1.21.0 opentelemetry-exporter-otlp-proto-common-1.21.0 opentelemetry-exporter-otlp-proto-grpc-1.21.0 opentelemetry-exporter-otlp-proto-http-1.21.0 opentelemetry-proto-1.21.0 opentelemetry-sdk-1.21.0 opentelemetry-semantic-conventions-0.42b0 ordered-set-4.1.0 pathspec-0.11.2 pendulum-2.1.2 prison-0.2.1 python-daemon-3.0.1 python-nvd3-0.15.0 pytzdata-2020.1 requests-toolbelt-1.0.0 rfc3339-validator-0.1.4 rich-argparse-1.4.0 setproctitle-1.3.3 sqlalchemy-1.4.50 sqlalchemy-jsonfield-1.0.1.post0 sqlalchemy-utils-0.41.1 unicodecsv-0.14.1 werkzeug-2.2.3\n"
          ]
        }
      ],
      "source": [
        "!pip install apache-airflow"
      ]
    },
    {
      "cell_type": "code",
      "source": [
        "!pip install apache-airflow[postgres]==<desired_version>"
      ],
      "metadata": {
        "colab": {
          "base_uri": "https://localhost:8080/"
        },
        "id": "rlnFEHRsEz1n",
        "outputId": "b14101d8-628d-482c-f8ad-2ee2e1ecf284"
      },
      "execution_count": 4,
      "outputs": [
        {
          "output_type": "stream",
          "name": "stdout",
          "text": [
            "/bin/bash: -c: line 1: syntax error near unexpected token `newline'\n",
            "/bin/bash: -c: line 1: `pip install apache-airflow[postgres]==<desired_version>'\n"
          ]
        }
      ]
    },
    {
      "cell_type": "code",
      "source": [
        "!pip install --upgrade apache-airflow"
      ],
      "metadata": {
        "colab": {
          "base_uri": "https://localhost:8080/"
        },
        "id": "OHet1DDlE_Jl",
        "outputId": "87e44723-4cb1-46a1-ea0b-359d7d6d41fd"
      },
      "execution_count": 6,
      "outputs": [
        {
          "output_type": "stream",
          "name": "stdout",
          "text": [
            "Requirement already satisfied: apache-airflow in /usr/local/lib/python3.10/dist-packages (2.7.3)\n",
            "Requirement already satisfied: WTForms<3.1.0 in /usr/local/lib/python3.10/dist-packages (from apache-airflow) (3.0.1)\n",
            "Requirement already satisfied: alembic<2.0,>=1.6.3 in /usr/local/lib/python3.10/dist-packages (from apache-airflow) (1.12.1)\n",
            "Requirement already satisfied: argcomplete>=1.10 in /usr/local/lib/python3.10/dist-packages (from apache-airflow) (3.1.4)\n",
            "Requirement already satisfied: asgiref in /usr/local/lib/python3.10/dist-packages (from apache-airflow) (3.7.2)\n",
            "Requirement already satisfied: attrs>=22.1.0 in /usr/local/lib/python3.10/dist-packages (from apache-airflow) (23.1.0)\n",
            "Requirement already satisfied: blinker in /usr/lib/python3/dist-packages (from apache-airflow) (1.4)\n",
            "Requirement already satisfied: cattrs>=22.1.0 in /usr/local/lib/python3.10/dist-packages (from apache-airflow) (23.1.2)\n",
            "Requirement already satisfied: colorlog<5.0,>=4.0.2 in /usr/local/lib/python3.10/dist-packages (from apache-airflow) (4.8.0)\n",
            "Requirement already satisfied: configupdater>=3.1.1 in /usr/local/lib/python3.10/dist-packages (from apache-airflow) (3.1.1)\n",
            "Requirement already satisfied: connexion[flask]<3.0,>=2.10.0 in /usr/local/lib/python3.10/dist-packages (from apache-airflow) (2.14.2)\n",
            "Requirement already satisfied: cron-descriptor>=1.2.24 in /usr/local/lib/python3.10/dist-packages (from apache-airflow) (1.4.0)\n",
            "Requirement already satisfied: croniter>=0.3.17 in /usr/local/lib/python3.10/dist-packages (from apache-airflow) (2.0.1)\n",
            "Requirement already satisfied: cryptography>=0.9.3 in /usr/local/lib/python3.10/dist-packages (from apache-airflow) (41.0.5)\n",
            "Requirement already satisfied: deprecated>=1.2.13 in /usr/local/lib/python3.10/dist-packages (from apache-airflow) (1.2.14)\n",
            "Requirement already satisfied: dill>=0.2.2 in /usr/local/lib/python3.10/dist-packages (from apache-airflow) (0.3.7)\n",
            "Requirement already satisfied: flask<2.3,>=2.2 in /usr/local/lib/python3.10/dist-packages (from apache-airflow) (2.2.5)\n",
            "Requirement already satisfied: flask-appbuilder==4.3.6 in /usr/local/lib/python3.10/dist-packages (from apache-airflow) (4.3.6)\n",
            "Requirement already satisfied: flask-caching>=1.5.0 in /usr/local/lib/python3.10/dist-packages (from apache-airflow) (2.1.0)\n",
            "Requirement already satisfied: flask-login>=0.6.2 in /usr/local/lib/python3.10/dist-packages (from apache-airflow) (0.6.3)\n",
            "Requirement already satisfied: flask-session>=0.4.0 in /usr/local/lib/python3.10/dist-packages (from apache-airflow) (0.5.0)\n",
            "Requirement already satisfied: flask-wtf>=0.15 in /usr/local/lib/python3.10/dist-packages (from apache-airflow) (1.2.1)\n",
            "Requirement already satisfied: google-re2>=1.0 in /usr/local/lib/python3.10/dist-packages (from apache-airflow) (1.1)\n",
            "Requirement already satisfied: graphviz>=0.12 in /usr/local/lib/python3.10/dist-packages (from apache-airflow) (0.20.1)\n",
            "Requirement already satisfied: gunicorn>=20.1.0 in /usr/local/lib/python3.10/dist-packages (from apache-airflow) (21.2.0)\n",
            "Requirement already satisfied: httpx in /usr/local/lib/python3.10/dist-packages (from apache-airflow) (0.25.1)\n",
            "Requirement already satisfied: itsdangerous>=2.0 in /usr/local/lib/python3.10/dist-packages (from apache-airflow) (2.1.2)\n",
            "Requirement already satisfied: jinja2>=3.0.0 in /usr/local/lib/python3.10/dist-packages (from apache-airflow) (3.1.2)\n",
            "Requirement already satisfied: jsonschema>=4.18.0 in /usr/local/lib/python3.10/dist-packages (from apache-airflow) (4.19.2)\n",
            "Requirement already satisfied: lazy-object-proxy in /usr/local/lib/python3.10/dist-packages (from apache-airflow) (1.9.0)\n",
            "Requirement already satisfied: linkify-it-py>=2.0.0 in /usr/local/lib/python3.10/dist-packages (from apache-airflow) (2.0.2)\n",
            "Requirement already satisfied: lockfile>=0.12.2 in /usr/local/lib/python3.10/dist-packages (from apache-airflow) (0.12.2)\n",
            "Requirement already satisfied: markdown>=3.0 in /usr/local/lib/python3.10/dist-packages (from apache-airflow) (3.5.1)\n",
            "Requirement already satisfied: markdown-it-py>=2.1.0 in /usr/local/lib/python3.10/dist-packages (from apache-airflow) (3.0.0)\n",
            "Requirement already satisfied: markupsafe>=1.1.1 in /usr/local/lib/python3.10/dist-packages (from apache-airflow) (2.1.3)\n",
            "Requirement already satisfied: marshmallow-oneofschema>=2.0.1 in /usr/local/lib/python3.10/dist-packages (from apache-airflow) (3.0.1)\n",
            "Requirement already satisfied: mdit-py-plugins>=0.3.0 in /usr/local/lib/python3.10/dist-packages (from apache-airflow) (0.4.0)\n",
            "Requirement already satisfied: opentelemetry-api>=1.15.0 in /usr/local/lib/python3.10/dist-packages (from apache-airflow) (1.21.0)\n",
            "Requirement already satisfied: opentelemetry-exporter-otlp in /usr/local/lib/python3.10/dist-packages (from apache-airflow) (1.21.0)\n",
            "Requirement already satisfied: packaging>=14.0 in /usr/local/lib/python3.10/dist-packages (from apache-airflow) (23.2)\n",
            "Requirement already satisfied: pathspec>=0.9.0 in /usr/local/lib/python3.10/dist-packages (from apache-airflow) (0.11.2)\n",
            "Requirement already satisfied: pendulum<3.0,>=2.0 in /usr/local/lib/python3.10/dist-packages (from apache-airflow) (2.1.2)\n",
            "Requirement already satisfied: pluggy>=1.0 in /usr/local/lib/python3.10/dist-packages (from apache-airflow) (1.3.0)\n",
            "Requirement already satisfied: psutil>=4.2.0 in /usr/local/lib/python3.10/dist-packages (from apache-airflow) (5.9.5)\n",
            "Requirement already satisfied: pydantic>=1.10.0 in /usr/local/lib/python3.10/dist-packages (from apache-airflow) (1.10.13)\n",
            "Requirement already satisfied: pygments>=2.0.1 in /usr/local/lib/python3.10/dist-packages (from apache-airflow) (2.16.1)\n",
            "Requirement already satisfied: pyjwt>=2.0.0 in /usr/lib/python3/dist-packages (from apache-airflow) (2.3.0)\n",
            "Requirement already satisfied: python-daemon>=3.0.0 in /usr/local/lib/python3.10/dist-packages (from apache-airflow) (3.0.1)\n",
            "Requirement already satisfied: python-dateutil>=2.3 in /usr/local/lib/python3.10/dist-packages (from apache-airflow) (2.8.2)\n",
            "Requirement already satisfied: python-nvd3>=0.15.0 in /usr/local/lib/python3.10/dist-packages (from apache-airflow) (0.15.0)\n",
            "Requirement already satisfied: python-slugify>=5.0 in /usr/local/lib/python3.10/dist-packages (from apache-airflow) (8.0.1)\n",
            "Requirement already satisfied: rfc3339-validator>=0.1.4 in /usr/local/lib/python3.10/dist-packages (from apache-airflow) (0.1.4)\n",
            "Requirement already satisfied: rich>=12.4.4 in /usr/local/lib/python3.10/dist-packages (from apache-airflow) (13.6.0)\n",
            "Requirement already satisfied: rich-argparse>=1.0.0 in /usr/local/lib/python3.10/dist-packages (from apache-airflow) (1.4.0)\n",
            "Requirement already satisfied: setproctitle>=1.1.8 in /usr/local/lib/python3.10/dist-packages (from apache-airflow) (1.3.3)\n",
            "Requirement already satisfied: sqlalchemy<2.0,>=1.4.28 in /usr/local/lib/python3.10/dist-packages (from apache-airflow) (1.4.50)\n",
            "Requirement already satisfied: sqlalchemy-jsonfield>=1.0 in /usr/local/lib/python3.10/dist-packages (from apache-airflow) (1.0.1.post0)\n",
            "Requirement already satisfied: tabulate>=0.7.5 in /usr/local/lib/python3.10/dist-packages (from apache-airflow) (0.9.0)\n",
            "Requirement already satisfied: tenacity!=8.2.0,>=6.2.0 in /usr/local/lib/python3.10/dist-packages (from apache-airflow) (8.2.3)\n",
            "Requirement already satisfied: termcolor>=1.1.0 in /usr/local/lib/python3.10/dist-packages (from apache-airflow) (2.3.0)\n",
            "Requirement already satisfied: typing-extensions>=4.0.0 in /usr/local/lib/python3.10/dist-packages (from apache-airflow) (4.5.0)\n",
            "Requirement already satisfied: unicodecsv>=0.14.1 in /usr/local/lib/python3.10/dist-packages (from apache-airflow) (0.14.1)\n",
            "Requirement already satisfied: werkzeug>=2.0 in /usr/local/lib/python3.10/dist-packages (from apache-airflow) (2.2.3)\n",
            "Requirement already satisfied: apache-airflow-providers-common-sql in /usr/local/lib/python3.10/dist-packages (from apache-airflow) (1.8.0)\n",
            "Requirement already satisfied: apache-airflow-providers-ftp in /usr/local/lib/python3.10/dist-packages (from apache-airflow) (3.6.0)\n",
            "Requirement already satisfied: apache-airflow-providers-http in /usr/local/lib/python3.10/dist-packages (from apache-airflow) (4.6.0)\n",
            "Requirement already satisfied: apache-airflow-providers-imap in /usr/local/lib/python3.10/dist-packages (from apache-airflow) (3.4.0)\n",
            "Requirement already satisfied: apache-airflow-providers-sqlite in /usr/local/lib/python3.10/dist-packages (from apache-airflow) (3.5.0)\n",
            "Requirement already satisfied: apispec[yaml]<7,>=6.0.0 in /usr/local/lib/python3.10/dist-packages (from flask-appbuilder==4.3.6->apache-airflow) (6.3.0)\n",
            "Requirement already satisfied: colorama<1,>=0.3.9 in /usr/local/lib/python3.10/dist-packages (from flask-appbuilder==4.3.6->apache-airflow) (0.4.6)\n",
            "Requirement already satisfied: click<9,>=8 in /usr/local/lib/python3.10/dist-packages (from flask-appbuilder==4.3.6->apache-airflow) (8.1.7)\n",
            "Requirement already satisfied: email-validator<2,>=1.0.5 in /usr/local/lib/python3.10/dist-packages (from flask-appbuilder==4.3.6->apache-airflow) (1.3.1)\n",
            "Requirement already satisfied: Flask-Babel<3,>=1 in /usr/local/lib/python3.10/dist-packages (from flask-appbuilder==4.3.6->apache-airflow) (2.0.0)\n",
            "Requirement already satisfied: Flask-Limiter<4,>3 in /usr/local/lib/python3.10/dist-packages (from flask-appbuilder==4.3.6->apache-airflow) (3.5.0)\n",
            "Requirement already satisfied: Flask-SQLAlchemy<3,>=2.4 in /usr/local/lib/python3.10/dist-packages (from flask-appbuilder==4.3.6->apache-airflow) (2.5.1)\n",
            "Requirement already satisfied: Flask-JWT-Extended<5.0.0,>=4.0.0 in /usr/local/lib/python3.10/dist-packages (from flask-appbuilder==4.3.6->apache-airflow) (4.5.3)\n",
            "Requirement already satisfied: marshmallow<4,>=3.18.0 in /usr/local/lib/python3.10/dist-packages (from flask-appbuilder==4.3.6->apache-airflow) (3.20.1)\n",
            "Requirement already satisfied: marshmallow-sqlalchemy<0.27.0,>=0.22.0 in /usr/local/lib/python3.10/dist-packages (from flask-appbuilder==4.3.6->apache-airflow) (0.26.1)\n",
            "Requirement already satisfied: prison<1.0.0,>=0.2.1 in /usr/local/lib/python3.10/dist-packages (from flask-appbuilder==4.3.6->apache-airflow) (0.2.1)\n",
            "Requirement already satisfied: sqlalchemy-utils<1,>=0.32.21 in /usr/local/lib/python3.10/dist-packages (from flask-appbuilder==4.3.6->apache-airflow) (0.41.1)\n",
            "Requirement already satisfied: Mako in /usr/local/lib/python3.10/dist-packages (from alembic<2.0,>=1.6.3->apache-airflow) (1.3.0)\n",
            "Requirement already satisfied: exceptiongroup in /usr/local/lib/python3.10/dist-packages (from cattrs>=22.1.0->apache-airflow) (1.1.3)\n",
            "Requirement already satisfied: clickclick<21,>=1.2 in /usr/local/lib/python3.10/dist-packages (from connexion[flask]<3.0,>=2.10.0->apache-airflow) (20.10.2)\n",
            "Requirement already satisfied: PyYAML<7,>=5.1 in /usr/local/lib/python3.10/dist-packages (from connexion[flask]<3.0,>=2.10.0->apache-airflow) (6.0.1)\n",
            "Requirement already satisfied: requests<3,>=2.9.1 in /usr/local/lib/python3.10/dist-packages (from connexion[flask]<3.0,>=2.10.0->apache-airflow) (2.31.0)\n",
            "Requirement already satisfied: inflection<0.6,>=0.3.1 in /usr/local/lib/python3.10/dist-packages (from connexion[flask]<3.0,>=2.10.0->apache-airflow) (0.5.1)\n",
            "Requirement already satisfied: pytz>2021.1 in /usr/local/lib/python3.10/dist-packages (from croniter>=0.3.17->apache-airflow) (2023.3.post1)\n",
            "Requirement already satisfied: cffi>=1.12 in /usr/local/lib/python3.10/dist-packages (from cryptography>=0.9.3->apache-airflow) (1.16.0)\n",
            "Requirement already satisfied: wrapt<2,>=1.10 in /usr/local/lib/python3.10/dist-packages (from deprecated>=1.2.13->apache-airflow) (1.14.1)\n",
            "Requirement already satisfied: cachelib<0.10.0,>=0.9.0 in /usr/local/lib/python3.10/dist-packages (from flask-caching>=1.5.0->apache-airflow) (0.9.0)\n",
            "Requirement already satisfied: jsonschema-specifications>=2023.03.6 in /usr/local/lib/python3.10/dist-packages (from jsonschema>=4.18.0->apache-airflow) (2023.7.1)\n",
            "Requirement already satisfied: referencing>=0.28.4 in /usr/local/lib/python3.10/dist-packages (from jsonschema>=4.18.0->apache-airflow) (0.30.2)\n",
            "Requirement already satisfied: rpds-py>=0.7.1 in /usr/local/lib/python3.10/dist-packages (from jsonschema>=4.18.0->apache-airflow) (0.11.0)\n",
            "Requirement already satisfied: uc-micro-py in /usr/local/lib/python3.10/dist-packages (from linkify-it-py>=2.0.0->apache-airflow) (1.0.2)\n",
            "Requirement already satisfied: mdurl~=0.1 in /usr/local/lib/python3.10/dist-packages (from markdown-it-py>=2.1.0->apache-airflow) (0.1.2)\n",
            "Requirement already satisfied: importlib-metadata<7.0,>=6.0 in /usr/local/lib/python3.10/dist-packages (from opentelemetry-api>=1.15.0->apache-airflow) (6.8.0)\n",
            "Requirement already satisfied: pytzdata>=2020.1 in /usr/local/lib/python3.10/dist-packages (from pendulum<3.0,>=2.0->apache-airflow) (2020.1)\n",
            "Requirement already satisfied: docutils in /usr/local/lib/python3.10/dist-packages (from python-daemon>=3.0.0->apache-airflow) (0.18.1)\n",
            "Requirement already satisfied: setuptools>=62.4.0 in /usr/local/lib/python3.10/dist-packages (from python-daemon>=3.0.0->apache-airflow) (67.7.2)\n",
            "Requirement already satisfied: six>=1.5 in /usr/local/lib/python3.10/dist-packages (from python-dateutil>=2.3->apache-airflow) (1.16.0)\n",
            "Requirement already satisfied: text-unidecode>=1.3 in /usr/local/lib/python3.10/dist-packages (from python-slugify>=5.0->apache-airflow) (1.3)\n",
            "Requirement already satisfied: greenlet!=0.4.17 in /usr/local/lib/python3.10/dist-packages (from sqlalchemy<2.0,>=1.4.28->apache-airflow) (3.0.1)\n",
            "Requirement already satisfied: sqlparse>=0.4.2 in /usr/local/lib/python3.10/dist-packages (from apache-airflow-providers-common-sql->apache-airflow) (0.4.4)\n",
            "Requirement already satisfied: aiohttp in /usr/local/lib/python3.10/dist-packages (from apache-airflow-providers-http->apache-airflow) (3.8.6)\n",
            "Requirement already satisfied: requests-toolbelt in /usr/local/lib/python3.10/dist-packages (from apache-airflow-providers-http->apache-airflow) (1.0.0)\n",
            "Requirement already satisfied: anyio in /usr/local/lib/python3.10/dist-packages (from httpx->apache-airflow) (3.7.1)\n",
            "Requirement already satisfied: certifi in /usr/local/lib/python3.10/dist-packages (from httpx->apache-airflow) (2023.7.22)\n",
            "Requirement already satisfied: httpcore in /usr/local/lib/python3.10/dist-packages (from httpx->apache-airflow) (1.0.1)\n",
            "Requirement already satisfied: idna in /usr/local/lib/python3.10/dist-packages (from httpx->apache-airflow) (3.4)\n",
            "Requirement already satisfied: sniffio in /usr/local/lib/python3.10/dist-packages (from httpx->apache-airflow) (1.3.0)\n",
            "Requirement already satisfied: opentelemetry-exporter-otlp-proto-grpc==1.21.0 in /usr/local/lib/python3.10/dist-packages (from opentelemetry-exporter-otlp->apache-airflow) (1.21.0)\n",
            "Requirement already satisfied: opentelemetry-exporter-otlp-proto-http==1.21.0 in /usr/local/lib/python3.10/dist-packages (from opentelemetry-exporter-otlp->apache-airflow) (1.21.0)\n",
            "Requirement already satisfied: backoff<3.0.0,>=1.10.0 in /usr/local/lib/python3.10/dist-packages (from opentelemetry-exporter-otlp-proto-grpc==1.21.0->opentelemetry-exporter-otlp->apache-airflow) (2.2.1)\n",
            "Requirement already satisfied: googleapis-common-protos~=1.52 in /usr/local/lib/python3.10/dist-packages (from opentelemetry-exporter-otlp-proto-grpc==1.21.0->opentelemetry-exporter-otlp->apache-airflow) (1.61.0)\n",
            "Requirement already satisfied: grpcio<2.0.0,>=1.0.0 in /usr/local/lib/python3.10/dist-packages (from opentelemetry-exporter-otlp-proto-grpc==1.21.0->opentelemetry-exporter-otlp->apache-airflow) (1.59.2)\n",
            "Requirement already satisfied: opentelemetry-exporter-otlp-proto-common==1.21.0 in /usr/local/lib/python3.10/dist-packages (from opentelemetry-exporter-otlp-proto-grpc==1.21.0->opentelemetry-exporter-otlp->apache-airflow) (1.21.0)\n",
            "Requirement already satisfied: opentelemetry-proto==1.21.0 in /usr/local/lib/python3.10/dist-packages (from opentelemetry-exporter-otlp-proto-grpc==1.21.0->opentelemetry-exporter-otlp->apache-airflow) (1.21.0)\n",
            "Requirement already satisfied: opentelemetry-sdk~=1.21.0 in /usr/local/lib/python3.10/dist-packages (from opentelemetry-exporter-otlp-proto-grpc==1.21.0->opentelemetry-exporter-otlp->apache-airflow) (1.21.0)\n",
            "Requirement already satisfied: protobuf<5.0,>=3.19 in /usr/local/lib/python3.10/dist-packages (from opentelemetry-proto==1.21.0->opentelemetry-exporter-otlp-proto-grpc==1.21.0->opentelemetry-exporter-otlp->apache-airflow) (3.20.3)\n",
            "Requirement already satisfied: pycparser in /usr/local/lib/python3.10/dist-packages (from cffi>=1.12->cryptography>=0.9.3->apache-airflow) (2.21)\n",
            "Requirement already satisfied: dnspython>=1.15.0 in /usr/local/lib/python3.10/dist-packages (from email-validator<2,>=1.0.5->flask-appbuilder==4.3.6->apache-airflow) (2.4.2)\n",
            "Requirement already satisfied: Babel>=2.3 in /usr/local/lib/python3.10/dist-packages (from Flask-Babel<3,>=1->flask-appbuilder==4.3.6->apache-airflow) (2.13.1)\n",
            "Requirement already satisfied: limits>=2.8 in /usr/local/lib/python3.10/dist-packages (from Flask-Limiter<4,>3->flask-appbuilder==4.3.6->apache-airflow) (3.6.0)\n",
            "Requirement already satisfied: ordered-set<5,>4 in /usr/local/lib/python3.10/dist-packages (from Flask-Limiter<4,>3->flask-appbuilder==4.3.6->apache-airflow) (4.1.0)\n",
            "Requirement already satisfied: zipp>=0.5 in /usr/local/lib/python3.10/dist-packages (from importlib-metadata<7.0,>=6.0->opentelemetry-api>=1.15.0->apache-airflow) (3.17.0)\n",
            "Requirement already satisfied: charset-normalizer<4,>=2 in /usr/local/lib/python3.10/dist-packages (from requests<3,>=2.9.1->connexion[flask]<3.0,>=2.10.0->apache-airflow) (3.3.2)\n",
            "Requirement already satisfied: urllib3<3,>=1.21.1 in /usr/local/lib/python3.10/dist-packages (from requests<3,>=2.9.1->connexion[flask]<3.0,>=2.10.0->apache-airflow) (2.0.7)\n",
            "Requirement already satisfied: multidict<7.0,>=4.5 in /usr/local/lib/python3.10/dist-packages (from aiohttp->apache-airflow-providers-http->apache-airflow) (6.0.4)\n",
            "Requirement already satisfied: async-timeout<5.0,>=4.0.0a3 in /usr/local/lib/python3.10/dist-packages (from aiohttp->apache-airflow-providers-http->apache-airflow) (4.0.3)\n",
            "Requirement already satisfied: yarl<2.0,>=1.0 in /usr/local/lib/python3.10/dist-packages (from aiohttp->apache-airflow-providers-http->apache-airflow) (1.9.2)\n",
            "Requirement already satisfied: frozenlist>=1.1.1 in /usr/local/lib/python3.10/dist-packages (from aiohttp->apache-airflow-providers-http->apache-airflow) (1.4.0)\n",
            "Requirement already satisfied: aiosignal>=1.1.2 in /usr/local/lib/python3.10/dist-packages (from aiohttp->apache-airflow-providers-http->apache-airflow) (1.3.1)\n",
            "Requirement already satisfied: h11<0.15,>=0.13 in /usr/local/lib/python3.10/dist-packages (from httpcore->httpx->apache-airflow) (0.14.0)\n",
            "Requirement already satisfied: importlib-resources>=1.3 in /usr/local/lib/python3.10/dist-packages (from limits>=2.8->Flask-Limiter<4,>3->flask-appbuilder==4.3.6->apache-airflow) (6.1.0)\n",
            "Requirement already satisfied: opentelemetry-semantic-conventions==0.42b0 in /usr/local/lib/python3.10/dist-packages (from opentelemetry-sdk~=1.21.0->opentelemetry-exporter-otlp-proto-grpc==1.21.0->opentelemetry-exporter-otlp->apache-airflow) (0.42b0)\n"
          ]
        }
      ]
    },
    {
      "cell_type": "code",
      "source": [
        "!pip install apache-airflow-providers-postgres"
      ],
      "metadata": {
        "colab": {
          "base_uri": "https://localhost:8080/",
          "height": 1000
        },
        "id": "yWm0go1TFTs7",
        "outputId": "ff0d740a-69e8-421a-d257-6b6f1550e74e"
      },
      "execution_count": 8,
      "outputs": [
        {
          "output_type": "stream",
          "name": "stdout",
          "text": [
            "Collecting apache-airflow-providers-postgres\n",
            "  Downloading apache_airflow_providers_postgres-5.7.1-py3-none-any.whl (18 kB)\n",
            "Requirement already satisfied: apache-airflow-providers-common-sql>=1.3.1 in /usr/local/lib/python3.10/dist-packages (from apache-airflow-providers-postgres) (1.8.0)\n",
            "Requirement already satisfied: apache-airflow>=2.5.0 in /usr/local/lib/python3.10/dist-packages (from apache-airflow-providers-postgres) (2.7.3)\n",
            "Collecting psycopg2-binary>=2.8.0 (from apache-airflow-providers-postgres)\n",
            "  Downloading psycopg2_binary-2.9.9-cp310-cp310-manylinux_2_17_x86_64.manylinux2014_x86_64.whl (3.0 MB)\n",
            "\u001b[2K     \u001b[90m━━━━━━━━━━━━━━━━━━━━━━━━━━━━━━━━━━━━━━━━\u001b[0m \u001b[32m3.0/3.0 MB\u001b[0m \u001b[31m8.9 MB/s\u001b[0m eta \u001b[36m0:00:00\u001b[0m\n",
            "\u001b[?25hRequirement already satisfied: WTForms<3.1.0 in /usr/local/lib/python3.10/dist-packages (from apache-airflow>=2.5.0->apache-airflow-providers-postgres) (3.0.1)\n",
            "Requirement already satisfied: alembic<2.0,>=1.6.3 in /usr/local/lib/python3.10/dist-packages (from apache-airflow>=2.5.0->apache-airflow-providers-postgres) (1.12.1)\n",
            "Requirement already satisfied: argcomplete>=1.10 in /usr/local/lib/python3.10/dist-packages (from apache-airflow>=2.5.0->apache-airflow-providers-postgres) (3.1.4)\n",
            "Requirement already satisfied: asgiref in /usr/local/lib/python3.10/dist-packages (from apache-airflow>=2.5.0->apache-airflow-providers-postgres) (3.7.2)\n",
            "Requirement already satisfied: attrs>=22.1.0 in /usr/local/lib/python3.10/dist-packages (from apache-airflow>=2.5.0->apache-airflow-providers-postgres) (23.1.0)\n",
            "Requirement already satisfied: blinker in /usr/lib/python3/dist-packages (from apache-airflow>=2.5.0->apache-airflow-providers-postgres) (1.4)\n",
            "Requirement already satisfied: cattrs>=22.1.0 in /usr/local/lib/python3.10/dist-packages (from apache-airflow>=2.5.0->apache-airflow-providers-postgres) (23.1.2)\n",
            "Requirement already satisfied: colorlog<5.0,>=4.0.2 in /usr/local/lib/python3.10/dist-packages (from apache-airflow>=2.5.0->apache-airflow-providers-postgres) (4.8.0)\n",
            "Requirement already satisfied: configupdater>=3.1.1 in /usr/local/lib/python3.10/dist-packages (from apache-airflow>=2.5.0->apache-airflow-providers-postgres) (3.1.1)\n",
            "Requirement already satisfied: connexion[flask]<3.0,>=2.10.0 in /usr/local/lib/python3.10/dist-packages (from apache-airflow>=2.5.0->apache-airflow-providers-postgres) (2.14.2)\n",
            "Requirement already satisfied: cron-descriptor>=1.2.24 in /usr/local/lib/python3.10/dist-packages (from apache-airflow>=2.5.0->apache-airflow-providers-postgres) (1.4.0)\n",
            "Requirement already satisfied: croniter>=0.3.17 in /usr/local/lib/python3.10/dist-packages (from apache-airflow>=2.5.0->apache-airflow-providers-postgres) (2.0.1)\n",
            "Requirement already satisfied: cryptography>=0.9.3 in /usr/local/lib/python3.10/dist-packages (from apache-airflow>=2.5.0->apache-airflow-providers-postgres) (41.0.5)\n",
            "Requirement already satisfied: deprecated>=1.2.13 in /usr/local/lib/python3.10/dist-packages (from apache-airflow>=2.5.0->apache-airflow-providers-postgres) (1.2.14)\n",
            "Requirement already satisfied: dill>=0.2.2 in /usr/local/lib/python3.10/dist-packages (from apache-airflow>=2.5.0->apache-airflow-providers-postgres) (0.3.7)\n",
            "Requirement already satisfied: flask<2.3,>=2.2 in /usr/local/lib/python3.10/dist-packages (from apache-airflow>=2.5.0->apache-airflow-providers-postgres) (2.2.5)\n",
            "Requirement already satisfied: flask-appbuilder==4.3.6 in /usr/local/lib/python3.10/dist-packages (from apache-airflow>=2.5.0->apache-airflow-providers-postgres) (4.3.6)\n",
            "Requirement already satisfied: flask-caching>=1.5.0 in /usr/local/lib/python3.10/dist-packages (from apache-airflow>=2.5.0->apache-airflow-providers-postgres) (2.1.0)\n",
            "Requirement already satisfied: flask-login>=0.6.2 in /usr/local/lib/python3.10/dist-packages (from apache-airflow>=2.5.0->apache-airflow-providers-postgres) (0.6.3)\n",
            "Requirement already satisfied: flask-session>=0.4.0 in /usr/local/lib/python3.10/dist-packages (from apache-airflow>=2.5.0->apache-airflow-providers-postgres) (0.5.0)\n",
            "Requirement already satisfied: flask-wtf>=0.15 in /usr/local/lib/python3.10/dist-packages (from apache-airflow>=2.5.0->apache-airflow-providers-postgres) (1.2.1)\n",
            "Requirement already satisfied: google-re2>=1.0 in /usr/local/lib/python3.10/dist-packages (from apache-airflow>=2.5.0->apache-airflow-providers-postgres) (1.1)\n",
            "Requirement already satisfied: graphviz>=0.12 in /usr/local/lib/python3.10/dist-packages (from apache-airflow>=2.5.0->apache-airflow-providers-postgres) (0.20.1)\n",
            "Requirement already satisfied: gunicorn>=20.1.0 in /usr/local/lib/python3.10/dist-packages (from apache-airflow>=2.5.0->apache-airflow-providers-postgres) (21.2.0)\n",
            "Requirement already satisfied: httpx in /usr/local/lib/python3.10/dist-packages (from apache-airflow>=2.5.0->apache-airflow-providers-postgres) (0.25.1)\n",
            "Requirement already satisfied: itsdangerous>=2.0 in /usr/local/lib/python3.10/dist-packages (from apache-airflow>=2.5.0->apache-airflow-providers-postgres) (2.1.2)\n",
            "Requirement already satisfied: jinja2>=3.0.0 in /usr/local/lib/python3.10/dist-packages (from apache-airflow>=2.5.0->apache-airflow-providers-postgres) (3.1.2)\n",
            "Requirement already satisfied: jsonschema>=4.18.0 in /usr/local/lib/python3.10/dist-packages (from apache-airflow>=2.5.0->apache-airflow-providers-postgres) (4.19.2)\n",
            "Requirement already satisfied: lazy-object-proxy in /usr/local/lib/python3.10/dist-packages (from apache-airflow>=2.5.0->apache-airflow-providers-postgres) (1.9.0)\n",
            "Requirement already satisfied: linkify-it-py>=2.0.0 in /usr/local/lib/python3.10/dist-packages (from apache-airflow>=2.5.0->apache-airflow-providers-postgres) (2.0.2)\n",
            "Requirement already satisfied: lockfile>=0.12.2 in /usr/local/lib/python3.10/dist-packages (from apache-airflow>=2.5.0->apache-airflow-providers-postgres) (0.12.2)\n",
            "Requirement already satisfied: markdown>=3.0 in /usr/local/lib/python3.10/dist-packages (from apache-airflow>=2.5.0->apache-airflow-providers-postgres) (3.5.1)\n",
            "Requirement already satisfied: markdown-it-py>=2.1.0 in /usr/local/lib/python3.10/dist-packages (from apache-airflow>=2.5.0->apache-airflow-providers-postgres) (3.0.0)\n",
            "Requirement already satisfied: markupsafe>=1.1.1 in /usr/local/lib/python3.10/dist-packages (from apache-airflow>=2.5.0->apache-airflow-providers-postgres) (2.1.3)\n",
            "Requirement already satisfied: marshmallow-oneofschema>=2.0.1 in /usr/local/lib/python3.10/dist-packages (from apache-airflow>=2.5.0->apache-airflow-providers-postgres) (3.0.1)\n",
            "Requirement already satisfied: mdit-py-plugins>=0.3.0 in /usr/local/lib/python3.10/dist-packages (from apache-airflow>=2.5.0->apache-airflow-providers-postgres) (0.4.0)\n",
            "Requirement already satisfied: opentelemetry-api>=1.15.0 in /usr/local/lib/python3.10/dist-packages (from apache-airflow>=2.5.0->apache-airflow-providers-postgres) (1.21.0)\n",
            "Requirement already satisfied: opentelemetry-exporter-otlp in /usr/local/lib/python3.10/dist-packages (from apache-airflow>=2.5.0->apache-airflow-providers-postgres) (1.21.0)\n",
            "Requirement already satisfied: packaging>=14.0 in /usr/local/lib/python3.10/dist-packages (from apache-airflow>=2.5.0->apache-airflow-providers-postgres) (23.2)\n",
            "Requirement already satisfied: pathspec>=0.9.0 in /usr/local/lib/python3.10/dist-packages (from apache-airflow>=2.5.0->apache-airflow-providers-postgres) (0.11.2)\n",
            "Requirement already satisfied: pendulum<3.0,>=2.0 in /usr/local/lib/python3.10/dist-packages (from apache-airflow>=2.5.0->apache-airflow-providers-postgres) (2.1.2)\n",
            "Requirement already satisfied: pluggy>=1.0 in /usr/local/lib/python3.10/dist-packages (from apache-airflow>=2.5.0->apache-airflow-providers-postgres) (1.3.0)\n",
            "Requirement already satisfied: psutil>=4.2.0 in /usr/local/lib/python3.10/dist-packages (from apache-airflow>=2.5.0->apache-airflow-providers-postgres) (5.9.5)\n",
            "Requirement already satisfied: pydantic>=1.10.0 in /usr/local/lib/python3.10/dist-packages (from apache-airflow>=2.5.0->apache-airflow-providers-postgres) (1.10.13)\n",
            "Requirement already satisfied: pygments>=2.0.1 in /usr/local/lib/python3.10/dist-packages (from apache-airflow>=2.5.0->apache-airflow-providers-postgres) (2.16.1)\n",
            "Requirement already satisfied: pyjwt>=2.0.0 in /usr/lib/python3/dist-packages (from apache-airflow>=2.5.0->apache-airflow-providers-postgres) (2.3.0)\n",
            "Requirement already satisfied: python-daemon>=3.0.0 in /usr/local/lib/python3.10/dist-packages (from apache-airflow>=2.5.0->apache-airflow-providers-postgres) (3.0.1)\n",
            "Requirement already satisfied: python-dateutil>=2.3 in /usr/local/lib/python3.10/dist-packages (from apache-airflow>=2.5.0->apache-airflow-providers-postgres) (2.8.2)\n",
            "Requirement already satisfied: python-nvd3>=0.15.0 in /usr/local/lib/python3.10/dist-packages (from apache-airflow>=2.5.0->apache-airflow-providers-postgres) (0.15.0)\n",
            "Requirement already satisfied: python-slugify>=5.0 in /usr/local/lib/python3.10/dist-packages (from apache-airflow>=2.5.0->apache-airflow-providers-postgres) (8.0.1)\n",
            "Requirement already satisfied: rfc3339-validator>=0.1.4 in /usr/local/lib/python3.10/dist-packages (from apache-airflow>=2.5.0->apache-airflow-providers-postgres) (0.1.4)\n",
            "Requirement already satisfied: rich>=12.4.4 in /usr/local/lib/python3.10/dist-packages (from apache-airflow>=2.5.0->apache-airflow-providers-postgres) (13.6.0)\n",
            "Requirement already satisfied: rich-argparse>=1.0.0 in /usr/local/lib/python3.10/dist-packages (from apache-airflow>=2.5.0->apache-airflow-providers-postgres) (1.4.0)\n",
            "Requirement already satisfied: setproctitle>=1.1.8 in /usr/local/lib/python3.10/dist-packages (from apache-airflow>=2.5.0->apache-airflow-providers-postgres) (1.3.3)\n",
            "Requirement already satisfied: sqlalchemy<2.0,>=1.4.28 in /usr/local/lib/python3.10/dist-packages (from apache-airflow>=2.5.0->apache-airflow-providers-postgres) (1.4.50)\n",
            "Requirement already satisfied: sqlalchemy-jsonfield>=1.0 in /usr/local/lib/python3.10/dist-packages (from apache-airflow>=2.5.0->apache-airflow-providers-postgres) (1.0.1.post0)\n",
            "Requirement already satisfied: tabulate>=0.7.5 in /usr/local/lib/python3.10/dist-packages (from apache-airflow>=2.5.0->apache-airflow-providers-postgres) (0.9.0)\n",
            "Requirement already satisfied: tenacity!=8.2.0,>=6.2.0 in /usr/local/lib/python3.10/dist-packages (from apache-airflow>=2.5.0->apache-airflow-providers-postgres) (8.2.3)\n",
            "Requirement already satisfied: termcolor>=1.1.0 in /usr/local/lib/python3.10/dist-packages (from apache-airflow>=2.5.0->apache-airflow-providers-postgres) (2.3.0)\n",
            "Requirement already satisfied: typing-extensions>=4.0.0 in /usr/local/lib/python3.10/dist-packages (from apache-airflow>=2.5.0->apache-airflow-providers-postgres) (4.5.0)\n",
            "Requirement already satisfied: unicodecsv>=0.14.1 in /usr/local/lib/python3.10/dist-packages (from apache-airflow>=2.5.0->apache-airflow-providers-postgres) (0.14.1)\n",
            "Requirement already satisfied: werkzeug>=2.0 in /usr/local/lib/python3.10/dist-packages (from apache-airflow>=2.5.0->apache-airflow-providers-postgres) (2.2.3)\n",
            "Requirement already satisfied: apache-airflow-providers-ftp in /usr/local/lib/python3.10/dist-packages (from apache-airflow>=2.5.0->apache-airflow-providers-postgres) (3.6.0)\n",
            "Requirement already satisfied: apache-airflow-providers-http in /usr/local/lib/python3.10/dist-packages (from apache-airflow>=2.5.0->apache-airflow-providers-postgres) (4.6.0)\n",
            "Requirement already satisfied: apache-airflow-providers-imap in /usr/local/lib/python3.10/dist-packages (from apache-airflow>=2.5.0->apache-airflow-providers-postgres) (3.4.0)\n",
            "Requirement already satisfied: apache-airflow-providers-sqlite in /usr/local/lib/python3.10/dist-packages (from apache-airflow>=2.5.0->apache-airflow-providers-postgres) (3.5.0)\n",
            "Requirement already satisfied: apispec[yaml]<7,>=6.0.0 in /usr/local/lib/python3.10/dist-packages (from flask-appbuilder==4.3.6->apache-airflow>=2.5.0->apache-airflow-providers-postgres) (6.3.0)\n",
            "Requirement already satisfied: colorama<1,>=0.3.9 in /usr/local/lib/python3.10/dist-packages (from flask-appbuilder==4.3.6->apache-airflow>=2.5.0->apache-airflow-providers-postgres) (0.4.6)\n",
            "Requirement already satisfied: click<9,>=8 in /usr/local/lib/python3.10/dist-packages (from flask-appbuilder==4.3.6->apache-airflow>=2.5.0->apache-airflow-providers-postgres) (8.1.7)\n",
            "Requirement already satisfied: email-validator<2,>=1.0.5 in /usr/local/lib/python3.10/dist-packages (from flask-appbuilder==4.3.6->apache-airflow>=2.5.0->apache-airflow-providers-postgres) (1.3.1)\n",
            "Requirement already satisfied: Flask-Babel<3,>=1 in /usr/local/lib/python3.10/dist-packages (from flask-appbuilder==4.3.6->apache-airflow>=2.5.0->apache-airflow-providers-postgres) (2.0.0)\n",
            "Requirement already satisfied: Flask-Limiter<4,>3 in /usr/local/lib/python3.10/dist-packages (from flask-appbuilder==4.3.6->apache-airflow>=2.5.0->apache-airflow-providers-postgres) (3.5.0)\n",
            "Requirement already satisfied: Flask-SQLAlchemy<3,>=2.4 in /usr/local/lib/python3.10/dist-packages (from flask-appbuilder==4.3.6->apache-airflow>=2.5.0->apache-airflow-providers-postgres) (2.5.1)\n",
            "Requirement already satisfied: Flask-JWT-Extended<5.0.0,>=4.0.0 in /usr/local/lib/python3.10/dist-packages (from flask-appbuilder==4.3.6->apache-airflow>=2.5.0->apache-airflow-providers-postgres) (4.5.3)\n",
            "Requirement already satisfied: marshmallow<4,>=3.18.0 in /usr/local/lib/python3.10/dist-packages (from flask-appbuilder==4.3.6->apache-airflow>=2.5.0->apache-airflow-providers-postgres) (3.20.1)\n",
            "Requirement already satisfied: marshmallow-sqlalchemy<0.27.0,>=0.22.0 in /usr/local/lib/python3.10/dist-packages (from flask-appbuilder==4.3.6->apache-airflow>=2.5.0->apache-airflow-providers-postgres) (0.26.1)\n",
            "Requirement already satisfied: prison<1.0.0,>=0.2.1 in /usr/local/lib/python3.10/dist-packages (from flask-appbuilder==4.3.6->apache-airflow>=2.5.0->apache-airflow-providers-postgres) (0.2.1)\n",
            "Requirement already satisfied: sqlalchemy-utils<1,>=0.32.21 in /usr/local/lib/python3.10/dist-packages (from flask-appbuilder==4.3.6->apache-airflow>=2.5.0->apache-airflow-providers-postgres) (0.41.1)\n",
            "Requirement already satisfied: sqlparse>=0.4.2 in /usr/local/lib/python3.10/dist-packages (from apache-airflow-providers-common-sql>=1.3.1->apache-airflow-providers-postgres) (0.4.4)\n",
            "Requirement already satisfied: Mako in /usr/local/lib/python3.10/dist-packages (from alembic<2.0,>=1.6.3->apache-airflow>=2.5.0->apache-airflow-providers-postgres) (1.3.0)\n",
            "Requirement already satisfied: exceptiongroup in /usr/local/lib/python3.10/dist-packages (from cattrs>=22.1.0->apache-airflow>=2.5.0->apache-airflow-providers-postgres) (1.1.3)\n",
            "Requirement already satisfied: clickclick<21,>=1.2 in /usr/local/lib/python3.10/dist-packages (from connexion[flask]<3.0,>=2.10.0->apache-airflow>=2.5.0->apache-airflow-providers-postgres) (20.10.2)\n",
            "Requirement already satisfied: PyYAML<7,>=5.1 in /usr/local/lib/python3.10/dist-packages (from connexion[flask]<3.0,>=2.10.0->apache-airflow>=2.5.0->apache-airflow-providers-postgres) (6.0.1)\n",
            "Requirement already satisfied: requests<3,>=2.9.1 in /usr/local/lib/python3.10/dist-packages (from connexion[flask]<3.0,>=2.10.0->apache-airflow>=2.5.0->apache-airflow-providers-postgres) (2.31.0)\n",
            "Requirement already satisfied: inflection<0.6,>=0.3.1 in /usr/local/lib/python3.10/dist-packages (from connexion[flask]<3.0,>=2.10.0->apache-airflow>=2.5.0->apache-airflow-providers-postgres) (0.5.1)\n",
            "Requirement already satisfied: pytz>2021.1 in /usr/local/lib/python3.10/dist-packages (from croniter>=0.3.17->apache-airflow>=2.5.0->apache-airflow-providers-postgres) (2023.3.post1)\n",
            "Requirement already satisfied: cffi>=1.12 in /usr/local/lib/python3.10/dist-packages (from cryptography>=0.9.3->apache-airflow>=2.5.0->apache-airflow-providers-postgres) (1.16.0)\n",
            "Requirement already satisfied: wrapt<2,>=1.10 in /usr/local/lib/python3.10/dist-packages (from deprecated>=1.2.13->apache-airflow>=2.5.0->apache-airflow-providers-postgres) (1.14.1)\n",
            "Requirement already satisfied: cachelib<0.10.0,>=0.9.0 in /usr/local/lib/python3.10/dist-packages (from flask-caching>=1.5.0->apache-airflow>=2.5.0->apache-airflow-providers-postgres) (0.9.0)\n",
            "Requirement already satisfied: jsonschema-specifications>=2023.03.6 in /usr/local/lib/python3.10/dist-packages (from jsonschema>=4.18.0->apache-airflow>=2.5.0->apache-airflow-providers-postgres) (2023.7.1)\n",
            "Requirement already satisfied: referencing>=0.28.4 in /usr/local/lib/python3.10/dist-packages (from jsonschema>=4.18.0->apache-airflow>=2.5.0->apache-airflow-providers-postgres) (0.30.2)\n",
            "Requirement already satisfied: rpds-py>=0.7.1 in /usr/local/lib/python3.10/dist-packages (from jsonschema>=4.18.0->apache-airflow>=2.5.0->apache-airflow-providers-postgres) (0.11.0)\n",
            "Requirement already satisfied: uc-micro-py in /usr/local/lib/python3.10/dist-packages (from linkify-it-py>=2.0.0->apache-airflow>=2.5.0->apache-airflow-providers-postgres) (1.0.2)\n",
            "Requirement already satisfied: mdurl~=0.1 in /usr/local/lib/python3.10/dist-packages (from markdown-it-py>=2.1.0->apache-airflow>=2.5.0->apache-airflow-providers-postgres) (0.1.2)\n",
            "Requirement already satisfied: importlib-metadata<7.0,>=6.0 in /usr/local/lib/python3.10/dist-packages (from opentelemetry-api>=1.15.0->apache-airflow>=2.5.0->apache-airflow-providers-postgres) (6.8.0)\n",
            "Requirement already satisfied: pytzdata>=2020.1 in /usr/local/lib/python3.10/dist-packages (from pendulum<3.0,>=2.0->apache-airflow>=2.5.0->apache-airflow-providers-postgres) (2020.1)\n",
            "Requirement already satisfied: docutils in /usr/local/lib/python3.10/dist-packages (from python-daemon>=3.0.0->apache-airflow>=2.5.0->apache-airflow-providers-postgres) (0.18.1)\n",
            "Requirement already satisfied: setuptools>=62.4.0 in /usr/local/lib/python3.10/dist-packages (from python-daemon>=3.0.0->apache-airflow>=2.5.0->apache-airflow-providers-postgres) (67.7.2)\n",
            "Requirement already satisfied: six>=1.5 in /usr/local/lib/python3.10/dist-packages (from python-dateutil>=2.3->apache-airflow>=2.5.0->apache-airflow-providers-postgres) (1.16.0)\n",
            "Requirement already satisfied: text-unidecode>=1.3 in /usr/local/lib/python3.10/dist-packages (from python-slugify>=5.0->apache-airflow>=2.5.0->apache-airflow-providers-postgres) (1.3)\n",
            "Requirement already satisfied: greenlet!=0.4.17 in /usr/local/lib/python3.10/dist-packages (from sqlalchemy<2.0,>=1.4.28->apache-airflow>=2.5.0->apache-airflow-providers-postgres) (3.0.1)\n",
            "Requirement already satisfied: aiohttp in /usr/local/lib/python3.10/dist-packages (from apache-airflow-providers-http->apache-airflow>=2.5.0->apache-airflow-providers-postgres) (3.8.6)\n",
            "Requirement already satisfied: requests-toolbelt in /usr/local/lib/python3.10/dist-packages (from apache-airflow-providers-http->apache-airflow>=2.5.0->apache-airflow-providers-postgres) (1.0.0)\n",
            "Requirement already satisfied: anyio in /usr/local/lib/python3.10/dist-packages (from httpx->apache-airflow>=2.5.0->apache-airflow-providers-postgres) (3.7.1)\n",
            "Requirement already satisfied: certifi in /usr/local/lib/python3.10/dist-packages (from httpx->apache-airflow>=2.5.0->apache-airflow-providers-postgres) (2023.7.22)\n",
            "Requirement already satisfied: httpcore in /usr/local/lib/python3.10/dist-packages (from httpx->apache-airflow>=2.5.0->apache-airflow-providers-postgres) (1.0.1)\n",
            "Requirement already satisfied: idna in /usr/local/lib/python3.10/dist-packages (from httpx->apache-airflow>=2.5.0->apache-airflow-providers-postgres) (3.4)\n",
            "Requirement already satisfied: sniffio in /usr/local/lib/python3.10/dist-packages (from httpx->apache-airflow>=2.5.0->apache-airflow-providers-postgres) (1.3.0)\n",
            "Requirement already satisfied: opentelemetry-exporter-otlp-proto-grpc==1.21.0 in /usr/local/lib/python3.10/dist-packages (from opentelemetry-exporter-otlp->apache-airflow>=2.5.0->apache-airflow-providers-postgres) (1.21.0)\n",
            "Requirement already satisfied: opentelemetry-exporter-otlp-proto-http==1.21.0 in /usr/local/lib/python3.10/dist-packages (from opentelemetry-exporter-otlp->apache-airflow>=2.5.0->apache-airflow-providers-postgres) (1.21.0)\n",
            "Requirement already satisfied: backoff<3.0.0,>=1.10.0 in /usr/local/lib/python3.10/dist-packages (from opentelemetry-exporter-otlp-proto-grpc==1.21.0->opentelemetry-exporter-otlp->apache-airflow>=2.5.0->apache-airflow-providers-postgres) (2.2.1)\n",
            "Requirement already satisfied: googleapis-common-protos~=1.52 in /usr/local/lib/python3.10/dist-packages (from opentelemetry-exporter-otlp-proto-grpc==1.21.0->opentelemetry-exporter-otlp->apache-airflow>=2.5.0->apache-airflow-providers-postgres) (1.61.0)\n",
            "Requirement already satisfied: grpcio<2.0.0,>=1.0.0 in /usr/local/lib/python3.10/dist-packages (from opentelemetry-exporter-otlp-proto-grpc==1.21.0->opentelemetry-exporter-otlp->apache-airflow>=2.5.0->apache-airflow-providers-postgres) (1.59.2)\n",
            "Requirement already satisfied: opentelemetry-exporter-otlp-proto-common==1.21.0 in /usr/local/lib/python3.10/dist-packages (from opentelemetry-exporter-otlp-proto-grpc==1.21.0->opentelemetry-exporter-otlp->apache-airflow>=2.5.0->apache-airflow-providers-postgres) (1.21.0)\n",
            "Requirement already satisfied: opentelemetry-proto==1.21.0 in /usr/local/lib/python3.10/dist-packages (from opentelemetry-exporter-otlp-proto-grpc==1.21.0->opentelemetry-exporter-otlp->apache-airflow>=2.5.0->apache-airflow-providers-postgres) (1.21.0)\n",
            "Requirement already satisfied: opentelemetry-sdk~=1.21.0 in /usr/local/lib/python3.10/dist-packages (from opentelemetry-exporter-otlp-proto-grpc==1.21.0->opentelemetry-exporter-otlp->apache-airflow>=2.5.0->apache-airflow-providers-postgres) (1.21.0)\n",
            "Requirement already satisfied: protobuf<5.0,>=3.19 in /usr/local/lib/python3.10/dist-packages (from opentelemetry-proto==1.21.0->opentelemetry-exporter-otlp-proto-grpc==1.21.0->opentelemetry-exporter-otlp->apache-airflow>=2.5.0->apache-airflow-providers-postgres) (3.20.3)\n",
            "Requirement already satisfied: pycparser in /usr/local/lib/python3.10/dist-packages (from cffi>=1.12->cryptography>=0.9.3->apache-airflow>=2.5.0->apache-airflow-providers-postgres) (2.21)\n",
            "Requirement already satisfied: dnspython>=1.15.0 in /usr/local/lib/python3.10/dist-packages (from email-validator<2,>=1.0.5->flask-appbuilder==4.3.6->apache-airflow>=2.5.0->apache-airflow-providers-postgres) (2.4.2)\n",
            "Requirement already satisfied: Babel>=2.3 in /usr/local/lib/python3.10/dist-packages (from Flask-Babel<3,>=1->flask-appbuilder==4.3.6->apache-airflow>=2.5.0->apache-airflow-providers-postgres) (2.13.1)\n",
            "Requirement already satisfied: limits>=2.8 in /usr/local/lib/python3.10/dist-packages (from Flask-Limiter<4,>3->flask-appbuilder==4.3.6->apache-airflow>=2.5.0->apache-airflow-providers-postgres) (3.6.0)\n",
            "Requirement already satisfied: ordered-set<5,>4 in /usr/local/lib/python3.10/dist-packages (from Flask-Limiter<4,>3->flask-appbuilder==4.3.6->apache-airflow>=2.5.0->apache-airflow-providers-postgres) (4.1.0)\n",
            "Requirement already satisfied: zipp>=0.5 in /usr/local/lib/python3.10/dist-packages (from importlib-metadata<7.0,>=6.0->opentelemetry-api>=1.15.0->apache-airflow>=2.5.0->apache-airflow-providers-postgres) (3.17.0)\n",
            "Requirement already satisfied: charset-normalizer<4,>=2 in /usr/local/lib/python3.10/dist-packages (from requests<3,>=2.9.1->connexion[flask]<3.0,>=2.10.0->apache-airflow>=2.5.0->apache-airflow-providers-postgres) (3.3.2)\n",
            "Requirement already satisfied: urllib3<3,>=1.21.1 in /usr/local/lib/python3.10/dist-packages (from requests<3,>=2.9.1->connexion[flask]<3.0,>=2.10.0->apache-airflow>=2.5.0->apache-airflow-providers-postgres) (2.0.7)\n",
            "Requirement already satisfied: multidict<7.0,>=4.5 in /usr/local/lib/python3.10/dist-packages (from aiohttp->apache-airflow-providers-http->apache-airflow>=2.5.0->apache-airflow-providers-postgres) (6.0.4)\n",
            "Requirement already satisfied: async-timeout<5.0,>=4.0.0a3 in /usr/local/lib/python3.10/dist-packages (from aiohttp->apache-airflow-providers-http->apache-airflow>=2.5.0->apache-airflow-providers-postgres) (4.0.3)\n",
            "Requirement already satisfied: yarl<2.0,>=1.0 in /usr/local/lib/python3.10/dist-packages (from aiohttp->apache-airflow-providers-http->apache-airflow>=2.5.0->apache-airflow-providers-postgres) (1.9.2)\n",
            "Requirement already satisfied: frozenlist>=1.1.1 in /usr/local/lib/python3.10/dist-packages (from aiohttp->apache-airflow-providers-http->apache-airflow>=2.5.0->apache-airflow-providers-postgres) (1.4.0)\n",
            "Requirement already satisfied: aiosignal>=1.1.2 in /usr/local/lib/python3.10/dist-packages (from aiohttp->apache-airflow-providers-http->apache-airflow>=2.5.0->apache-airflow-providers-postgres) (1.3.1)\n",
            "Requirement already satisfied: h11<0.15,>=0.13 in /usr/local/lib/python3.10/dist-packages (from httpcore->httpx->apache-airflow>=2.5.0->apache-airflow-providers-postgres) (0.14.0)\n",
            "Requirement already satisfied: importlib-resources>=1.3 in /usr/local/lib/python3.10/dist-packages (from limits>=2.8->Flask-Limiter<4,>3->flask-appbuilder==4.3.6->apache-airflow>=2.5.0->apache-airflow-providers-postgres) (6.1.0)\n",
            "Requirement already satisfied: opentelemetry-semantic-conventions==0.42b0 in /usr/local/lib/python3.10/dist-packages (from opentelemetry-sdk~=1.21.0->opentelemetry-exporter-otlp-proto-grpc==1.21.0->opentelemetry-exporter-otlp->apache-airflow>=2.5.0->apache-airflow-providers-postgres) (0.42b0)\n",
            "Installing collected packages: psycopg2-binary, apache-airflow-providers-postgres\n",
            "Successfully installed apache-airflow-providers-postgres-5.7.1 psycopg2-binary-2.9.9\n"
          ]
        },
        {
          "output_type": "display_data",
          "data": {
            "application/vnd.colab-display-data+json": {
              "pip_warning": {
                "packages": [
                  "airflow"
                ]
              }
            }
          },
          "metadata": {}
        }
      ]
    },
    {
      "cell_type": "code",
      "source": [
        "from airflow import DAG\n",
        "from airflow.operators.python_operator import PythonOperator\n",
        "from datetime import datetime\n",
        "from airflow.hooks.postgres_hook import PostgresHook\n",
        "import requests"
      ],
      "metadata": {
        "colab": {
          "base_uri": "https://localhost:8080/",
          "height": 82
        },
        "id": "sjl6SFk5EATm",
        "outputId": "e8832324-f723-46a2-a080-d4ad061ceb80"
      },
      "execution_count": 9,
      "outputs": [
        {
          "output_type": "display_data",
          "data": {
            "text/plain": [
              "\u001b[1;33m<\u001b[0m\u001b[1;33mipython-input-\u001b[0m\u001b[1;33m9\u001b[0m\u001b[1;33m-f2b92efcee94\u001b[0m\u001b[1;33m>\u001b[0m\u001b[1;33m:\u001b[0m\u001b[1;33m2\u001b[0m\u001b[1;33m DeprecationWarning\u001b[0m\u001b[33m: The `airflow.operators.python_operator.PythonOperator` class is deprecated. Please use `\u001b[0m\u001b[33m'airflow.operators.python.PythonOperator'\u001b[0m\u001b[33m`.\u001b[0m\n"
            ],
            "text/html": [
              "<pre style=\"white-space:pre;overflow-x:auto;line-height:normal;font-family:Menlo,'DejaVu Sans Mono',consolas,'Courier New',monospace\"><span style=\"color: #808000; text-decoration-color: #808000; font-weight: bold\">&lt;ipython-input-</span><span style=\"color: #808000; text-decoration-color: #808000; font-weight: bold\">9</span><span style=\"color: #808000; text-decoration-color: #808000; font-weight: bold\">-f2b92efcee94&gt;:</span><span style=\"color: #808000; text-decoration-color: #808000; font-weight: bold\">2</span><span style=\"color: #808000; text-decoration-color: #808000; font-weight: bold\"> DeprecationWarning</span><span style=\"color: #808000; text-decoration-color: #808000\">: The `airflow.operators.python_operator.PythonOperator` class is deprecated. Please use `</span><span style=\"color: #808000; text-decoration-color: #808000\">'airflow.operators.python.PythonOperator'</span><span style=\"color: #808000; text-decoration-color: #808000\">`.</span>\n",
              "</pre>\n"
            ]
          },
          "metadata": {}
        },
        {
          "output_type": "display_data",
          "data": {
            "text/plain": [
              "\u001b[1;33m<\u001b[0m\u001b[1;33mipython-input-\u001b[0m\u001b[1;33m9\u001b[0m\u001b[1;33m-f2b92efcee94\u001b[0m\u001b[1;33m>\u001b[0m\u001b[1;33m:\u001b[0m\u001b[1;33m4\u001b[0m\u001b[1;33m DeprecationWarning\u001b[0m\u001b[33m: The `airflow.hooks.postgres_hook.PostgresHook` class is deprecated. Please use `\u001b[0m\u001b[33m'airflow.providers.postgres.hooks.postgres.PostgresHook'\u001b[0m\u001b[33m`.\u001b[0m\n"
            ],
            "text/html": [
              "<pre style=\"white-space:pre;overflow-x:auto;line-height:normal;font-family:Menlo,'DejaVu Sans Mono',consolas,'Courier New',monospace\"><span style=\"color: #808000; text-decoration-color: #808000; font-weight: bold\">&lt;ipython-input-</span><span style=\"color: #808000; text-decoration-color: #808000; font-weight: bold\">9</span><span style=\"color: #808000; text-decoration-color: #808000; font-weight: bold\">-f2b92efcee94&gt;:</span><span style=\"color: #808000; text-decoration-color: #808000; font-weight: bold\">4</span><span style=\"color: #808000; text-decoration-color: #808000; font-weight: bold\"> DeprecationWarning</span><span style=\"color: #808000; text-decoration-color: #808000\">: The `airflow.hooks.postgres_hook.PostgresHook` class is deprecated. Please use `</span><span style=\"color: #808000; text-decoration-color: #808000\">'airflow.providers.postgres.hooks.postgres.PostgresHook'</span><span style=\"color: #808000; text-decoration-color: #808000\">`.</span>\n",
              "</pre>\n"
            ]
          },
          "metadata": {}
        }
      ]
    },
    {
      "cell_type": "code",
      "source": [
        "from airflow.operators.dummy_operator import DummyOperator\n",
        "from airflow.operators.python_operator import PythonOperator"
      ],
      "metadata": {
        "colab": {
          "base_uri": "https://localhost:8080/",
          "height": 82
        },
        "id": "VsmSBTNkHfZd",
        "outputId": "1e6fee25-3c6d-4a94-e6e8-0718c0610651"
      },
      "execution_count": 12,
      "outputs": [
        {
          "output_type": "display_data",
          "data": {
            "text/plain": [
              "\u001b[1;33m<\u001b[0m\u001b[1;33mipython-input-\u001b[0m\u001b[1;33m12\u001b[0m\u001b[1;33m-b2468d4201df\u001b[0m\u001b[1;33m>\u001b[0m\u001b[1;33m:\u001b[0m\u001b[1;33m1\u001b[0m\u001b[1;33m DeprecationWarning\u001b[0m\u001b[33m: The `airflow.operators.dummy_operator.DummyOperator` class is deprecated. Please use `\u001b[0m\u001b[33m'airflow.operators.empty.EmptyOperator'\u001b[0m\u001b[33m`.\u001b[0m\n"
            ],
            "text/html": [
              "<pre style=\"white-space:pre;overflow-x:auto;line-height:normal;font-family:Menlo,'DejaVu Sans Mono',consolas,'Courier New',monospace\"><span style=\"color: #808000; text-decoration-color: #808000; font-weight: bold\">&lt;ipython-input-</span><span style=\"color: #808000; text-decoration-color: #808000; font-weight: bold\">12</span><span style=\"color: #808000; text-decoration-color: #808000; font-weight: bold\">-b2468d4201df&gt;:</span><span style=\"color: #808000; text-decoration-color: #808000; font-weight: bold\">1</span><span style=\"color: #808000; text-decoration-color: #808000; font-weight: bold\"> DeprecationWarning</span><span style=\"color: #808000; text-decoration-color: #808000\">: The `airflow.operators.dummy_operator.DummyOperator` class is deprecated. Please use `</span><span style=\"color: #808000; text-decoration-color: #808000\">'airflow.operators.empty.EmptyOperator'</span><span style=\"color: #808000; text-decoration-color: #808000\">`.</span>\n",
              "</pre>\n"
            ]
          },
          "metadata": {}
        },
        {
          "output_type": "display_data",
          "data": {
            "text/plain": [
              "\u001b[1;33m<\u001b[0m\u001b[1;33mipython-input-\u001b[0m\u001b[1;33m12\u001b[0m\u001b[1;33m-b2468d4201df\u001b[0m\u001b[1;33m>\u001b[0m\u001b[1;33m:\u001b[0m\u001b[1;33m2\u001b[0m\u001b[1;33m DeprecationWarning\u001b[0m\u001b[33m: The `airflow.operators.python_operator.PythonOperator` class is deprecated. Please use `\u001b[0m\u001b[33m'airflow.operators.python.PythonOperator'\u001b[0m\u001b[33m`.\u001b[0m\n"
            ],
            "text/html": [
              "<pre style=\"white-space:pre;overflow-x:auto;line-height:normal;font-family:Menlo,'DejaVu Sans Mono',consolas,'Courier New',monospace\"><span style=\"color: #808000; text-decoration-color: #808000; font-weight: bold\">&lt;ipython-input-</span><span style=\"color: #808000; text-decoration-color: #808000; font-weight: bold\">12</span><span style=\"color: #808000; text-decoration-color: #808000; font-weight: bold\">-b2468d4201df&gt;:</span><span style=\"color: #808000; text-decoration-color: #808000; font-weight: bold\">2</span><span style=\"color: #808000; text-decoration-color: #808000; font-weight: bold\"> DeprecationWarning</span><span style=\"color: #808000; text-decoration-color: #808000\">: The `airflow.operators.python_operator.PythonOperator` class is deprecated. Please use `</span><span style=\"color: #808000; text-decoration-color: #808000\">'airflow.operators.python.PythonOperator'</span><span style=\"color: #808000; text-decoration-color: #808000\">`.</span>\n",
              "</pre>\n"
            ]
          },
          "metadata": {}
        }
      ]
    },
    {
      "cell_type": "code",
      "source": [
        "db_connection = {\n",
        "    'host': 'localhost',\n",
        "    'port': 5432,\n",
        "    'database': 'postgres',\n",
        "    'user': 'postgres',\n",
        "    'password': 'bunga123'\n",
        "}"
      ],
      "metadata": {
        "id": "sOYnwE54DzFh"
      },
      "execution_count": 14,
      "outputs": []
    },
    {
      "cell_type": "code",
      "source": [
        "def extract_data():\n",
        "    url = \"https://api.openaq.org/v2/locations?limit=100&page=1&offset=0&sort=desc&radius=1000&country=ID&order_by=lastUpdated&dump_raw=false\"\n",
        "    headers = {\"accept\": \"application/json\"}\n",
        "    response = requests.get(url, headers=headers)\n",
        "    print(response.text)\n",
        "\n",
        "    jakarta_data = [item for item in data['results'] if item['country'] == 'ID' and item['name'] == 'Jakarta Central']\n",
        "\n",
        "    return jakarta_data"
      ],
      "metadata": {
        "id": "zHJ1rllQFePm"
      },
      "execution_count": 19,
      "outputs": []
    },
    {
      "cell_type": "code",
      "source": [
        "def save_to_database(**kwargs):\n",
        "    data = kwargs['ti'].xcom_pull(task_ids='extract_data')\n",
        "\n",
        "    # Koneksi ke database menggunakan Hook dengan informasi koneksi yang telah ditentukan\n",
        "    postgres_hook = PostgresHook(postgres_conn_id='Kualitas_udara_connection', conn_name_attr=db_conn)\n",
        "\n",
        "    # Membuat tabel 'openaq_data'\n",
        "    create_table_query = \"\"\"\n",
        "    CREATE TABLE IF NOT EXISTS openaq_data (\n",
        "        id SERIAL PRIMARY KEY,\n",
        "        city TEXT,\n",
        "        name TEXT,\n",
        "        entity TEXT,\n",
        "        country TEXT,\n",
        "        sources TEXT,\n",
        "        isMobile BOOLEAN,\n",
        "        isAnalysis BOOLEAN,\n",
        "        parameters JSONB,\n",
        "        sensorType TEXT,\n",
        "        coordinates JSONB,\n",
        "        lastUpdated TIMESTAMP,\n",
        "        firstUpdated TIMESTAMP,\n",
        "        measurements INTEGER,\n",
        "        bounds JSONB,\n",
        "        manufacturers JSONB\n",
        "    );\n",
        "    \"\"\"\n",
        "    postgres_hook.run(create_table_query)"
      ],
      "metadata": {
        "id": "fiQtYTecK0aW"
      },
      "execution_count": 22,
      "outputs": []
    },
    {
      "cell_type": "code",
      "source": [
        "def save_to_database(**kwargs):\n",
        "    # ...\n",
        "    for item in data:\n",
        "        insert_query = \"\"\"\n",
        "        INSERT INTO openaq_data (city, name, entity, country, sources, isMobile, isAnalysis, parameters, sensorType, coordinates, lastUpdated, firstUpdated, measurements, bounds, manufacturers)\n",
        "        VALUES (%s, %s, %s, %s, %s, %s, %s, %s, %s, %s, %s, %s, %s, %s, %s);\n",
        "        \"\"\"\n",
        "        postgres_hook.run(insert_query, parameters=(\n",
        "            item['city'],\n",
        "            item['name'],\n",
        "            item['entity'],\n",
        "            item['country'],\n",
        "            item['sources'],\n",
        "            item['isMobile'],\n",
        "            item['isAnalysis'],\n",
        "            item['parameters'],\n",
        "            item['sensorType'],\n",
        "            item['coordinates'],\n",
        "            item['lastUpdated'],\n",
        "            item['firstUpdated'],\n",
        "            item['measurements'],\n",
        "            item['bounds'],\n",
        "            item['manufacturers']\n",
        "        ))\n"
      ],
      "metadata": {
        "id": "A_RPNRe3LPSg"
      },
      "execution_count": 24,
      "outputs": []
    },
    {
      "cell_type": "code",
      "source": [
        "dag = DAG(\n",
        "    'openaq_data_pipeline',\n",
        "    start_date=datetime(2023, 10, 21, 4, 0),  # Jadwalkan eksekusi pada jam 4 pagi\n",
        "    schedule_interval='0 4 * * *',  # Ekspresi cron\n",
        "    catchup=False,  # Jangan mengejar eksekusi yang terlewat\n",
        ")"
      ],
      "metadata": {
        "colab": {
          "base_uri": "https://localhost:8080/",
          "height": 50
        },
        "id": "_tatFQ2XLqAY",
        "outputId": "108a95df-1f78-45bd-e22e-f2dbef5a14b7"
      },
      "execution_count": 25,
      "outputs": [
        {
          "output_type": "display_data",
          "data": {
            "text/plain": [
              "\u001b[1;33m<\u001b[0m\u001b[1;33mipython-input-\u001b[0m\u001b[1;33m25\u001b[0m\u001b[1;33m-8a35c28eeddb\u001b[0m\u001b[1;33m>\u001b[0m\u001b[1;33m:\u001b[0m\u001b[1;33m1\u001b[0m\u001b[1;33m RemovedInAirflow3Warning\u001b[0m\u001b[33m: Param `schedule_interval` is deprecated and will be removed in a future release. Please use `schedule` instead.\u001b[0m\n"
            ],
            "text/html": [
              "<pre style=\"white-space:pre;overflow-x:auto;line-height:normal;font-family:Menlo,'DejaVu Sans Mono',consolas,'Courier New',monospace\"><span style=\"color: #808000; text-decoration-color: #808000; font-weight: bold\">&lt;ipython-input-</span><span style=\"color: #808000; text-decoration-color: #808000; font-weight: bold\">25</span><span style=\"color: #808000; text-decoration-color: #808000; font-weight: bold\">-8a35c28eeddb&gt;:</span><span style=\"color: #808000; text-decoration-color: #808000; font-weight: bold\">1</span><span style=\"color: #808000; text-decoration-color: #808000; font-weight: bold\"> RemovedInAirflow3Warning</span><span style=\"color: #808000; text-decoration-color: #808000\">: Param `schedule_interval` is deprecated and will be removed in a future release. Please use `schedule` instead.</span>\n",
              "</pre>\n"
            ]
          },
          "metadata": {}
        }
      ]
    },
    {
      "cell_type": "code",
      "source": [
        "extract_task = PythonOperator(\n",
        "    task_id='extract_data',\n",
        "    python_callable=extract_data,\n",
        "    dag=dag,\n",
        ")"
      ],
      "metadata": {
        "id": "vWGrF7-0LyhB"
      },
      "execution_count": 26,
      "outputs": []
    },
    {
      "cell_type": "code",
      "source": [
        "save_to_db_task = PythonOperator(\n",
        "    task_id='save_to_database',\n",
        "    python_callable=save_to_database,\n",
        "    provide_context=True,\n",
        "    dag=dag,\n",
        ")"
      ],
      "metadata": {
        "colab": {
          "base_uri": "https://localhost:8080/",
          "height": 33
        },
        "id": "RDYmhno3L1PM",
        "outputId": "36a5b892-1df8-4da3-d4d2-ea2cae31bc90"
      },
      "execution_count": 27,
      "outputs": [
        {
          "output_type": "display_data",
          "data": {
            "text/plain": [
              "\u001b[1;33m<\u001b[0m\u001b[1;33mipython-input-\u001b[0m\u001b[1;33m27\u001b[0m\u001b[1;33m-a4b15ed652d0\u001b[0m\u001b[1;33m>\u001b[0m\u001b[1;33m:\u001b[0m\u001b[1;33m1\u001b[0m\u001b[1;33m RemovedInAirflow3Warning\u001b[0m\u001b[33m: provide_context is deprecated as of \u001b[0m\u001b[1;33m2.0\u001b[0m\u001b[33m and is no longer required\u001b[0m\n"
            ],
            "text/html": [
              "<pre style=\"white-space:pre;overflow-x:auto;line-height:normal;font-family:Menlo,'DejaVu Sans Mono',consolas,'Courier New',monospace\"><span style=\"color: #808000; text-decoration-color: #808000; font-weight: bold\">&lt;ipython-input-</span><span style=\"color: #808000; text-decoration-color: #808000; font-weight: bold\">27</span><span style=\"color: #808000; text-decoration-color: #808000; font-weight: bold\">-a4b15ed652d0&gt;:</span><span style=\"color: #808000; text-decoration-color: #808000; font-weight: bold\">1</span><span style=\"color: #808000; text-decoration-color: #808000; font-weight: bold\"> RemovedInAirflow3Warning</span><span style=\"color: #808000; text-decoration-color: #808000\">: provide_context is deprecated as of </span><span style=\"color: #808000; text-decoration-color: #808000; font-weight: bold\">2.0</span><span style=\"color: #808000; text-decoration-color: #808000\"> and is no longer required</span>\n",
              "</pre>\n"
            ]
          },
          "metadata": {}
        }
      ]
    },
    {
      "cell_type": "code",
      "source": [
        "extract_task >> save_to_db_task"
      ],
      "metadata": {
        "colab": {
          "base_uri": "https://localhost:8080/"
        },
        "id": "NuTOBy3eL4In",
        "outputId": "a674e4bb-2e45-41d6-8db7-d8052372a93c"
      },
      "execution_count": 28,
      "outputs": [
        {
          "output_type": "execute_result",
          "data": {
            "text/plain": [
              "<Task(PythonOperator): save_to_database>"
            ]
          },
          "metadata": {},
          "execution_count": 28
        }
      ]
    }
  ]
}